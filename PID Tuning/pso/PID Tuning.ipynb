{
 "cells": [
  {
   "cell_type": "code",
   "execution_count": null,
   "metadata": {
    "ExecuteTime": {
     "end_time": "2020-05-14T18:05:48.026812Z",
     "start_time": "2020-05-14T18:05:43.458330Z"
    }
   },
   "outputs": [],
   "source": [
    "import numpy as np\n",
    "import matplotlib.pyplot as plt\n",
    "import pandas as pd\n",
    "import numba as nb\n",
    "import scipy as sc\n",
    "import math\n",
    "import time\n",
    "from scipy.integrate import cumtrapz\n",
    "from numba import jit, njit, prange"
   ]
  },
  {
   "cell_type": "markdown",
   "metadata": {},
   "source": [
    "# LOAD PARAMETER"
   ]
  },
  {
   "cell_type": "code",
   "execution_count": null,
   "metadata": {},
   "outputs": [],
   "source": [
    "# Steady State Response\n",
    "param_ssr = np.load('../model/ssr.npy')[-1]\n",
    "\n",
    "# Dynamics\n",
    "param_dynamics = np.load('../model/sys_id.npy')[-1]"
   ]
  },
  {
   "cell_type": "markdown",
   "metadata": {},
   "source": [
    "# Generate Trajectory"
   ]
  },
  {
   "cell_type": "markdown",
   "metadata": {},
   "source": [
    "## Step & ramp function"
   ]
  },
  {
   "cell_type": "code",
   "execution_count": null,
   "metadata": {
    "ExecuteTime": {
     "end_time": "2020-05-14T18:05:48.089304Z",
     "start_time": "2020-05-14T18:05:48.062885Z"
    }
   },
   "outputs": [],
   "source": [
    "def step(tt):\n",
    "    out = np.zeros_like(tt)\n",
    "    out[tt >= 0] = 1\n",
    "    return out\n",
    "\n",
    "def ramp(tt):\n",
    "    out = np.array(tt)\n",
    "    out[tt < 0] = 0\n",
    "    return out\n",
    "\n",
    "def jitter(gain, omega, tt, t0, tf):\n",
    "    out = np.array(tt)\n",
    "    \n",
    "    out = gain * np.sin(omega*(tt-t0))\n",
    "    out[tt-t0 < 0] = 0\n",
    "    out[tt-tf > 0] = 0\n",
    "    return out"
   ]
  },
  {
   "cell_type": "markdown",
   "metadata": {},
   "source": [
    "## Continuous acceleration"
   ]
  },
  {
   "cell_type": "code",
   "execution_count": null,
   "metadata": {
    "ExecuteTime": {
     "end_time": "2020-05-14T18:05:49.857464Z",
     "start_time": "2020-05-14T18:05:48.546233Z"
    }
   },
   "outputs": [],
   "source": [
    "t0 = np.arange(3, 288, 0.02)\n",
    "a0 = ramp(t0-3) - ramp(t0-4.5) - ramp(t0-8) + ramp(t0-9.5) \\\n",
    "    - 0.25*ramp(t0-27) + 0.25*ramp(t0-30) + 0.25*ramp(t0-32) - 0.25*ramp(t0-35) \\\n",
    "    + 0.5*ramp(t0-40) - 1.*ramp(t0-44) + 0.5*ramp(t0-48) \\\n",
    "    - 1*ramp(t0-60) + 2*ramp(t0 - 62) - 1*ramp(t0-64) \\\n",
    "    - 0.1*ramp(t0-79) + 0.4*ramp(t0-85) - 0.3*ramp(t0-87) \\\n",
    "    + 0.35*ramp(t0-95) - 0.7*ramp(t0-98) + 0.35*ramp(t0-101) \\\n",
    "    - 0.5*ramp(t0-101) + 1*ramp(t0-102.5) - 0.5*ramp(t0-104) \\\n",
    "    + 0.35*ramp(t0-104) - 0.7*ramp(t0-107) + 0.35*ramp(t0-110) \\\n",
    "    - 0.15*ramp(t0-110) + 0.3*ramp(t0-114) - 0.15*ramp(t0-118) \\\n",
    "    + jitter(0.25, np.pi / 2.0, t0, 132, 152) \\\n",
    "    + 2.*ramp(t0-160) - 2.*ramp(t0-161) - 2.*ramp(t0-163) + 2.*ramp(t0-164) \\\n",
    "    - 2.*ramp(t0 - 180) + 2*ramp(t0-181) + 2 *ramp(t0-183) - 2*ramp(t0-184) \\\n",
    "    + 2.0 * ramp(t0-210) - 2.0*ramp(t0-210.2) - 2.0*ramp(t0-216) + 2.0*ramp(t0-216.4)\\\n",
    "    + 2.0 * ramp(t0-218.4) - 2.0*ramp(t0-218.8)  - 2.0*ramp(t0 - 230) + 2.0*ramp(t0-230.2) \\\n",
    "    - 1.5*ramp(t0-240) + 1.5*ramp(t0-241) + 1.5*ramp(t0-243) - 1.5*ramp(t0-244) #\\\n",
    "    #+ 5.0*step(t0-255) - 5.0*step(t0-256)\n",
    "t0 = np.arange(0, 285, 0.02)\n",
    "v0 = cumtrapz(a0, t0, initial=0.) + 1.\n",
    "\n",
    "fig, ax1 = plt.subplots()\n",
    "ax1.set_xlabel('Time (s)')\n",
    "ax1.plot(t0, v0, color='tab:blue', linewidth=2.0, label='Speed')\n",
    "ax1.set_ylabel('Speed 'r'$(m/s)$', color='tab:blue')\n",
    "\n",
    "ax2 = ax1.twinx()\n",
    "ax2.plot(t0, a0, color='black', linestyle='--', linewidth=1.5, label='Acceleration')\n",
    "ax2.set_ylabel('Acceleration '+r'$(m/s^2)$', color='black')\n",
    "ax2.set_ylim(ax2.get_ylim()[0], 3 * ax2.get_ylim()[1])\n",
    "\n",
    "fig.legend()\n",
    "plt.title('Reference Trajectory')\n",
    "# fig.savefig('images/trajectory', dpi=600)\n",
    "plt.show()"
   ]
  },
  {
   "cell_type": "code",
   "execution_count": null,
   "metadata": {},
   "outputs": [],
   "source": [
    "# Untuk ngitung overshoot\n",
    "idx = np.array([[9.5, 27.], [35., 40.], [48., 60.], [64., 79.], [87., 95.], [118., 132.], [164., 180.], [184., 210.], [230.2, 240.], [244., t0[-1]+3.]]) -3\n",
    "direction = np.array([1, 0, 1, 0, 0, 1, 1, 0, 1, 0])\n",
    "reg = np.ones(t0.shape[0])\n",
    "for i in range(t0.shape[0]):\n",
    "    for j in range(idx.shape[0]):\n",
    "        if idx[j,0] <= t0[i] and t0[i] <= idx[j,1]:\n",
    "            reg[i] = v0[i]"
   ]
  },
  {
   "cell_type": "code",
   "execution_count": null,
   "metadata": {},
   "outputs": [],
   "source": [
    "plt.plot(t0, v0)\n",
    "plt.plot(t0, reg, linestyle='--')\n",
    "#direction = np.array([1, 0, 1, 0, 0, 0, 1, 0, 1, 0, 1])"
   ]
  },
  {
   "cell_type": "markdown",
   "metadata": {},
   "source": [
    "# MAKE FUNCTION"
   ]
  },
  {
   "cell_type": "markdown",
   "metadata": {},
   "source": [
    "## Generate Population"
   ]
  },
  {
   "cell_type": "code",
   "execution_count": null,
   "metadata": {
    "ExecuteTime": {
     "end_time": "2020-05-13T17:57:06.227345Z",
     "start_time": "2020-05-13T17:57:06.211511Z"
    }
   },
   "outputs": [],
   "source": [
    "def generate_population(num, dim, rng):\n",
    "    \"\"\"\n",
    "    Generate population:\n",
    "        Input:\n",
    "            num: number of population (integer)\n",
    "            dim: number of parameters (integer)\n",
    "            rng: range number used in initialization (list or numpy array)\n",
    "        Output:\n",
    "            pop: initial position of the population (numpy array)\n",
    "    \"\"\"\n",
    "    pop = np.zeros((num,dim))\n",
    "    for i in range(dim):\n",
    "        lim = rng[i]\n",
    "        pop[:, i] = np.random.uniform(lim[0], lim[1], size=num)\n",
    "    return pop"
   ]
  },
  {
   "cell_type": "markdown",
   "metadata": {},
   "source": [
    "## Forward Propagation"
   ]
  },
  {
   "cell_type": "code",
   "execution_count": null,
   "metadata": {},
   "outputs": [],
   "source": [
    "@njit\n",
    "def delayed_control_signal(i, u, u_list, td):\n",
    "    if i < td:\n",
    "        ut = 0.0\n",
    "    else:\n",
    "        if td == 0:\n",
    "            ut = u\n",
    "        else:\n",
    "            ut = u_list[i-td]\n",
    "    return ut\n",
    "_ = delayed_control_signal(1, 0.1, np.array([0.1, 0.2]), 0)"
   ]
  },
  {
   "cell_type": "code",
   "execution_count": null,
   "metadata": {},
   "outputs": [],
   "source": [
    "@njit\n",
    "def clip(a, a_min, a_max):\n",
    "    if a > a_max:\n",
    "        return a_max\n",
    "    elif a < a_min:\n",
    "        return a_min\n",
    "    else:\n",
    "        return a\n",
    "    \n",
    "_ = clip(2.0, -1.0, 1.0)"
   ]
  },
  {
   "cell_type": "code",
   "execution_count": null,
   "metadata": {},
   "outputs": [],
   "source": [
    "# Steady state response parameters\n",
    "beta1, beta2, beta3 = param_ssr\n",
    "\n",
    "# System parameters\n",
    "a1, a2, a3, b1, b2, b3, b4, c1, c2, c3, c4, td11, td12, td13, td21, td22, td23 = param_dynamics\n",
    "td11 = int(np.around(td11))\n",
    "td12 = int(np.around(td12))\n",
    "td13 = int(np.around(td13))\n",
    "td21 = int(np.around(td21))\n",
    "td22 = int(np.around(td22))\n",
    "td23 = int(np.around(td23))"
   ]
  },
  {
   "cell_type": "code",
   "execution_count": null,
   "metadata": {},
   "outputs": [],
   "source": [
    "sat_min = -1.\n",
    "sat_max = 1.\n",
    "\n",
    "@njit\n",
    "def forward_propagation(t, v, param):    \n",
    "    kp, ki, kd = param\n",
    "\n",
    "    dt = np.mean(t[1:] - t[:-1])\n",
    "    \n",
    "    ki = ki * dt\n",
    "    kd = kd / dt    \n",
    "    \n",
    "    e_sum = 0.0\n",
    "    e_last = 0.0\n",
    "    e_int_state = 0 # 0 --> No Saturation || 1 --> Saturation (+) || -1 --> Saturation (-1)\n",
    "    is_start = True\n",
    "    \n",
    "    u1_list = np.empty(t.shape)\n",
    "    u2_list = np.empty(t.shape)\n",
    "    out = np.empty(t.shape)\n",
    "    y = 0.0\n",
    "    for i in range(t.shape[0]):     \n",
    "        # LONGITUDINAL CONTROLLER\n",
    "        sp = clip(v[i], 0.0, np.Inf)\n",
    "        sr = beta1 * (1 - np.exp(beta2*sp)) + beta3\n",
    "        sr = clip(sr, 0., sat_max) * 0.5\n",
    "        \n",
    "        err = sp - y\n",
    "        if e_int_state == 0:\n",
    "            e_sum += err\n",
    "        elif e_int_state == 1:\n",
    "            if err < 0:\n",
    "                e_sum += err\n",
    "        elif e_int_state == -1:\n",
    "            if err > 0:\n",
    "                e_sum += err\n",
    "        \n",
    "        if is_start:\n",
    "            temp = sr + kp * err + ki * e_sum + 0.\n",
    "            is_start = False\n",
    "        else:\n",
    "            temp = sr + kp * err + ki * e_sum + kd * (err - e_last)\n",
    "        \n",
    "        e_last = err\n",
    "\n",
    "        if temp > sat_max: # Saturation (+)\n",
    "            temp = sat_max\n",
    "            e_int_state = 1\n",
    "        elif temp < sat_min: # Saturation (-)\n",
    "            temp = sat_min\n",
    "            e_int_state = -1\n",
    "        else: # Not saturated\n",
    "            e_int_state = 0\n",
    "        \n",
    "        u1 = clip(temp, 0.0, sat_max)\n",
    "        u2 = clip(-temp, 0.0, -sat_min)\n",
    "        \n",
    "        # DYNAMICS     \n",
    "        u11t = delayed_control_signal(i, u1, u1_list, td11)\n",
    "        u12t = delayed_control_signal(i, u1, u1_list, td12)\n",
    "        u13t = delayed_control_signal(i, u1, u1_list, td13)\n",
    "        u21t = delayed_control_signal(i, u2, u2_list, td21)\n",
    "        u22t = delayed_control_signal(i, u2, u2_list, td22)\n",
    "        u23t = delayed_control_signal(i, u2, u2_list, td23)\n",
    "        \n",
    "        temp = 0.\n",
    "        if y != 0.:\n",
    "            temp = a1\n",
    "                    \n",
    "        y_dot = temp + a2 * y + a3 * y**2 \\\n",
    "                + b1 * u11t + b2 * np.exp(b3 * y + b4 * u12t) * u13t  \\\n",
    "                + c1 * u21t + c2 * np.exp(c3 * y + c4 * u22t) * u23t\n",
    "        \n",
    "        y += y_dot * dt\n",
    "        if y < 0.0:\n",
    "            y = 0.0\n",
    "\n",
    "        u1_list[i] = u1\n",
    "        u2_list[i] = u2\n",
    "        out[i] = y\n",
    "\n",
    "    return out, u1_list, u2_list\n",
    "_ = forward_propagation(np.arange(10, dtype=float), np.ones(10), np.array([0.1, 0.1, 0.1]))"
   ]
  },
  {
   "cell_type": "code",
   "execution_count": null,
   "metadata": {},
   "outputs": [],
   "source": [
    "%timeit forward_propagation(t0, v0, np.array([0.2, 0.1550, 0.1]))"
   ]
  },
  {
   "cell_type": "markdown",
   "metadata": {},
   "source": [
    "## Constraint"
   ]
  },
  {
   "cell_type": "code",
   "execution_count": null,
   "metadata": {
    "ExecuteTime": {
     "end_time": "2020-05-13T17:57:06.287808Z",
     "start_time": "2020-05-13T17:57:06.273244Z"
    }
   },
   "outputs": [],
   "source": [
    "@njit\n",
    "def admissible(param):\n",
    "    kp, ki, kd = param\n",
    "    if kp < 0. or ki < 0. or kd < 0.:\n",
    "        return False\n",
    "    else:\n",
    "        return True\n",
    "n_dim = 3\n",
    "_ = admissible(np.random.randn(n_dim))"
   ]
  },
  {
   "cell_type": "markdown",
   "metadata": {},
   "source": [
    "## Cost"
   ]
  },
  {
   "cell_type": "code",
   "execution_count": null,
   "metadata": {
    "ExecuteTime": {
     "end_time": "2020-05-13T17:57:06.308329Z",
     "start_time": "2020-05-13T17:57:06.291190Z"
    }
   },
   "outputs": [],
   "source": [
    "@njit\n",
    "def gradient(a, t):\n",
    "    dt = np.mean(t[1:]-t[:-1])\n",
    "    \n",
    "#     forward = np.zeros_like(a)\n",
    "#     forward[:-1] = a[1:]\n",
    "#     forward[-1] = forward[-2]\n",
    "#     backward = np.zeros_like(a)\n",
    "#     backward[1:] = a[:-1]\n",
    "#     backward[0] = backward[1]    \n",
    "#     out = (forward - backward) / 2 / dt\n",
    "    \n",
    "    out = np.zeros_like(a)\n",
    "    out[1:-1] = (a[2:] - a[:-2]) / 2 / dt\n",
    "    out[0] = out[1]\n",
    "    out[-1] = out[-2]\n",
    "    return out\n",
    "_ = gradient(v0, t0)"
   ]
  },
  {
   "cell_type": "code",
   "execution_count": null,
   "metadata": {},
   "outputs": [],
   "source": [
    "idx = np.array([[9.5, 27.], [35., 40.], [48., 60.], [64., 79.], [87., 95.], [118., 132.], [164., 180.], [184., 210.], [230.2, 240.], [244., t0[-1]+3.]]) -3\n",
    "direction = np.array([1, 0, 1, 0, 0, 1, 1, 0, 1, 0])\n",
    "\n",
    "@njit\n",
    "def max_os_sim(mv):\n",
    "    out = 0.\n",
    "    for i in range(mv.shape[0]):\n",
    "        for j in range(idx.shape[0]):\n",
    "            if idx[j,0] <= t0[i] and t0[i] <= idx[j,1]:\n",
    "                if direction[j] > 0.5:\n",
    "                    temp = mv[i] - v0[i]\n",
    "                else:\n",
    "                    temp = v0[i] - mv[i]\n",
    "                temp = temp / v0[i] * 100\n",
    "                temp = clip(temp, 0.0, np.Inf)\n",
    "                if temp > out:\n",
    "                    out = temp\n",
    "    return out\n",
    "_ = max_os_sim(np.zeros(v0.shape[0]))"
   ]
  },
  {
   "cell_type": "code",
   "execution_count": null,
   "metadata": {},
   "outputs": [],
   "source": [
    "@njit\n",
    "def cost(t, v, param, lamda):\n",
    "    mv, cs1, cs2 = forward_propagation(t, v, param)\n",
    "    \n",
    "    error = v - mv\n",
    "    \n",
    "    # ma = gradient(mv, t)\n",
    "    # mj = gradient(ma, t)\n",
    "    \n",
    "    # mj = gradient(error, t)\n",
    "    # mj = gradient(mj, t)\n",
    "    \n",
    "    mj = gradient(cs1, t)\n",
    "    \n",
    "    max_os = max_os_sim(mv)\n",
    "    if max_os > lamda[1]: # max_os %\n",
    "        return np.Inf\n",
    "    # loss = np.sum(np.abs(error)) + lamda[0] * np.sum(np.abs(mj))\n",
    "    # loss = np.sum(error**2) + lamda[0] * np.sum(mj**2)\n",
    "    loss = np.sum(error**2) + lamda[0] * np.sum(np.abs(mj))\n",
    "    M = t.shape[0]\n",
    "    return loss / M\n",
    "_ = cost(np.arange(10, dtype=float), np.ones(10), np.ones(3), np.array([0.001, 0.001]))"
   ]
  },
  {
   "cell_type": "code",
   "execution_count": null,
   "metadata": {
    "ExecuteTime": {
     "end_time": "2020-05-13T17:57:06.328315Z",
     "start_time": "2020-05-13T17:57:06.311336Z"
    }
   },
   "outputs": [],
   "source": [
    "@njit\n",
    "def mean_squared_error(t, v, param):\n",
    "    mv, _, _ = forward_propagation(t, v, param)\n",
    "    error = v - mv\n",
    "    cost = np.mean(error**2)\n",
    "    return cost\n",
    "_ = mean_squared_error(np.arange(10, dtype=float), np.ones(10), np.array([0.1, 0.1, 0.1]))\n",
    "\n",
    "@njit\n",
    "def mean_absolute_error(t, v, param):\n",
    "    mv, _, _ = forward_propagation(t, v, param)\n",
    "    error = v - mv\n",
    "    out = np.mean(np.abs(error))\n",
    "    return out\n",
    "_ = mean_absolute_error(np.arange(10, dtype=float), np.ones(10), np.array([0.1, 0.1, 0.1]))\n",
    "\n",
    "@njit\n",
    "def max_absolute_error(t, v, param):\n",
    "    mv, _, _ = forward_propagation(t, v, param)\n",
    "    error = v - mv\n",
    "    return np.max(np.abs(error))\n",
    "_ = max_absolute_error(np.arange(10, dtype=float), np.ones(10), np.array([0.1, 0.1, 0.1]))\n",
    "\n",
    "@njit\n",
    "def mean_absolute_jerk(t, v, param):\n",
    "    mv, _, _ = forward_propagation(t, v, param)\n",
    "    \n",
    "    ma = gradient(mv, t)\n",
    "    mj = gradient(ma, t)\n",
    "    return np.mean(np.abs(mj))\n",
    "_ = mean_absolute_jerk(np.arange(10, dtype=float), np.ones(10), np.array([0.1, 0.1, 0.1]))\n",
    "\n",
    "@njit\n",
    "def mean_squared_jerk(t, v, param):\n",
    "    mv, _, _ = forward_propagation(t, v, param)\n",
    "    \n",
    "    ma = gradient(mv, t)\n",
    "    mj = gradient(ma, t)\n",
    "    return np.mean(mj**2)\n",
    "_ = mean_squared_jerk(np.arange(10, dtype=float), np.ones(10), np.array([0.1, 0.1, 0.1]))\n",
    "\n",
    "@njit\n",
    "def max_percent_overshoot(t, v, param):\n",
    "    mv, _, _ = forward_propagation(t, v, param)\n",
    "    return max_os_sim(mv)\n",
    "_ = max_percent_overshoot(np.arange(10, dtype=float), np.ones(10), np.array([0.1, 0.1, 0.1]))\n",
    "\n",
    "@njit\n",
    "def mean_absolute_u_dot(t, v, param):\n",
    "    mv, cs1, cs2 = forward_propagation(t, v, param)\n",
    "    \n",
    "    cs1_dot = gradient(cs1, t)\n",
    "    cs2_dot = gradient(cs2, t)\n",
    "    return np.mean(np.abs(cs1_dot)+np.abs(cs2_dot))\n",
    "_ = mean_absolute_u_dot(np.arange(10, dtype=float), np.ones(10), np.array([0.1, 0.1, 0.1]))\n",
    "\n",
    "@njit\n",
    "def mean_squared_u_dot(t, v, param):\n",
    "    mv, cs1, cs2 = forward_propagation(t, v, param)\n",
    "    \n",
    "    cs1_dot = gradient(cs1, t)\n",
    "    cs2_dot = gradient(cs2, t)\n",
    "    return np.mean(np.abs(cs1_dot)**2+np.abs(cs2_dot)**2)\n",
    "_ = mean_squared_u_dot(np.arange(10, dtype=float), np.ones(10), np.array([0.1, 0.1, 0.1]))"
   ]
  },
  {
   "cell_type": "code",
   "execution_count": null,
   "metadata": {
    "ExecuteTime": {
     "end_time": "2020-05-13T17:57:06.348846Z",
     "start_time": "2020-05-13T17:57:06.332107Z"
    }
   },
   "outputs": [],
   "source": [
    "@njit\n",
    "def calculate_total_cost(param, lamda):\n",
    "    if admissible(param):\n",
    "        return cost(t0, v0, param, lamda)\n",
    "    return np.Inf\n",
    "_ = calculate_total_cost(np.array([0.1, 0.1, 0.1]), np.array([0.001, 0.001]))"
   ]
  },
  {
   "cell_type": "code",
   "execution_count": null,
   "metadata": {
    "ExecuteTime": {
     "end_time": "2020-05-13T17:57:06.367975Z",
     "start_time": "2020-05-13T17:57:06.354989Z"
    }
   },
   "outputs": [],
   "source": [
    "@njit(parallel=True)\n",
    "def population_cost(population, lamda):\n",
    "    length = population.shape[0]\n",
    "    losses = np.zeros(length)\n",
    "    for ii in prange(length):\n",
    "        losses[ii] = calculate_total_cost(population[ii], lamda)\n",
    "    return losses\n",
    "_ = population_cost(np.array([[0.1, 0.1, 0.1], [0.1, 0.1, 0.1]]), np.array([0.001, 0.001]))"
   ]
  },
  {
   "cell_type": "markdown",
   "metadata": {
    "heading_collapsed": true
   },
   "source": [
    "## PSO"
   ]
  },
  {
   "cell_type": "code",
   "execution_count": null,
   "metadata": {
    "ExecuteTime": {
     "end_time": "2020-05-05T16:38:55.858267Z",
     "start_time": "2020-05-05T16:38:55.830447Z"
    },
    "hidden": true
   },
   "outputs": [],
   "source": [
    "@njit\n",
    "def pso(population, pop_velocity, global_, global_loss, best_pos_local,\n",
    "        best_local_loss, w_max, w_min, c1, c2, iteration, max_iter, lamda):\n",
    "    num = population.shape[0]\n",
    "    dim = population.shape[1]\n",
    "    \n",
    "    # Initial conditions\n",
    "    ppos_vector = np.copy(population)\n",
    "    pvel_vector = np.copy(pop_velocity)\n",
    "    gbest_pos = np.copy(global_)\n",
    "    gfit_value = global_loss + 0.0 # to avoid shallow copy\n",
    "    pbest_pos = np.copy(best_pos_local)\n",
    "    pfit_value = np.copy(best_local_loss)\n",
    "\n",
    "    # Additional variables for catching the next global best\n",
    "    next_gbest_pos = np.copy(gbest_pos)\n",
    "    next_gfit_value = gfit_value + 0.0 # to avoid shallow copy\n",
    "    \n",
    "    # Calculate w based on w_max, w_min, current number of iteration,\n",
    "    # and the maximum iteration\n",
    "    w = w_max - (w_max - w_min) * iteration / max_iter\n",
    "    \n",
    "    for i in range(num):        \n",
    "        # Get random numbers for r1 and r2\n",
    "        r1 = np.random.uniform(0., 1.)\n",
    "        r2 = np.random.uniform(0., 1.)\n",
    "        \n",
    "        # Update the velocity and position vector\n",
    "        d1 = pbest_pos[i] - ppos_vector[i]\n",
    "        d2 = gbest_pos - ppos_vector[i]\n",
    "        pvel_vector[i] = w*pvel_vector[i] + c1*r1*d1+ c2*r2*d2\n",
    "        ppos_vector[i] = pvel_vector[i] + ppos_vector[i]\n",
    "        \n",
    "        # Calculate the cost function or fit value\n",
    "        cost_func = calculate_total_cost(ppos_vector[i], lamda)\n",
    "        \n",
    "        # Update the next local best for i-th particle if applicable\n",
    "        if(pfit_value[i] > cost_func):\n",
    "            pfit_value[i] = cost_func + 0.0 # to avoid shallow copy\n",
    "            pbest_pos[i] = np.copy(ppos_vector[i])\n",
    "                \n",
    "        # Update the next global best if applicable\n",
    "        if(next_gfit_value > cost_func):\n",
    "            next_gfit_value = cost_func  + 0.0 # to avoid shallow copy\n",
    "            next_gbest_pos = np.copy(ppos_vector[i])\n",
    "        \n",
    "    return ppos_vector, pvel_vector, pbest_pos, pfit_value, next_gbest_pos, next_gfit_value\n",
    "\n",
    "xx1 = np.ones((2, n_dim))\n",
    "xx2 = np.ones(2)\n",
    "xx3 = np.random.randn(n_dim)\n",
    "_ = pso(xx1, xx1, xx3, 100.0, xx1*0.5, xx2, 0.9, 0.4, 0.7, 0.8, 0, 20, np.array([0., np.Inf]))\n",
    "# _ = pso(xx1, xx1, xx2, xx3, 100.0, 0.8, 1.5, 0.1, np.array([0., np.Inf]))"
   ]
  },
  {
   "cell_type": "markdown",
   "metadata": {},
   "source": [
    "# SIMULATION (OPTIMIZATION)"
   ]
  },
  {
   "cell_type": "code",
   "execution_count": null,
   "metadata": {
    "ExecuteTime": {
     "end_time": "2020-05-05T16:38:55.894842Z",
     "start_time": "2020-05-05T16:38:55.864001Z"
    },
    "hidden": true
   },
   "outputs": [],
   "source": [
    "num = 50\n",
    "n_sim = 20\n",
    "n_itr = 5000\n",
    "\n",
    "r_kp = [0.0, 1.0]\n",
    "r_ki = [0.0, 1.0]\n",
    "r_kd = [0.0, 1.0]\n",
    "rng = [r_kp, r_ki, r_kd]\n",
    "dim = len(rng)\n",
    "\n",
    "w_max = 0.9\n",
    "w_min = 0.4\n",
    "c1 = 0.7\n",
    "c2 = 0.8"
   ]
  },
  {
   "cell_type": "code",
   "execution_count": null,
   "metadata": {
    "ExecuteTime": {
     "end_time": "2020-05-05T16:39:48.177174Z",
     "start_time": "2020-05-05T16:39:09.836931Z"
    },
    "hidden": true,
    "scrolled": true
   },
   "outputs": [],
   "source": [
    "lamda = np.array([0.0, np.Inf])\n",
    "\n",
    "param_history = np.zeros((n_sim, dim))\n",
    "loss_history = np.ones(n_sim) * np.Inf\n",
    "\n",
    "the_best_param_history = np.zeros((n_itr, dim))\n",
    "the_best_loss_history = np.zeros(n_itr)\n",
    "\n",
    "for j in range(n_sim):\n",
    "    print(f'Optimization: {j+1} ------------------------------------------')\n",
    "    \n",
    "    print('Initializing ...')\n",
    "    while True:\n",
    "        try:\n",
    "            population = generate_population(num, dim, rng)\n",
    "            rng_vel = [[-max([abs(rng[i][0]), abs(rng[i][1])]), max([abs(rng[i][0]), abs(rng[i][1])])] for i in range(len(rng))]\n",
    "            pop_velocity = generate_population(num, dim, rng_vel)\n",
    "            global_ = None\n",
    "            global_loss_ = np.Inf\n",
    "            local_best_pos = np.copy(population)\n",
    "\n",
    "            loss_population = population_cost(population, lamda)\n",
    "            loss_population[np.isnan(loss_population)] = np.Inf\n",
    "            min_idx = np.argmin(loss_population)\n",
    "            min_loss = loss_population[min_idx]\n",
    "            if global_loss_ > min_loss:\n",
    "                global_loss_ = min_loss\n",
    "                global_ = np.copy(population[min_idx, :])\n",
    "\n",
    "            global_history = np.empty((n_itr, dim))\n",
    "            global_history[0] = global_\n",
    "            global_loss_history = np.empty(n_itr)\n",
    "            global_loss_history[0] = global_loss_\n",
    "            \n",
    "            # Biasanya di sini suka gagal, kalau inisialisasi population awal semuanya menyelisihi constraint\n",
    "            population, pop_velocity, local_best_pos, loss_population, global_, global_loss_ = pso(\n",
    "                population, pop_velocity, global_, global_loss_, local_best_pos, loss_population,\n",
    "                w_max, w_min, c1, c2, i, n_itr, lamda\n",
    "            )\n",
    "            break\n",
    "        except:\n",
    "            print('Re-Initializing ...')\n",
    "            \n",
    "    print('Continue ...')\n",
    "    for i in range(1, n_itr):\n",
    "        # Flower Pollination Algorithm\n",
    "        population, pop_velocity, local_best_pos, loss_population, global_, global_loss_ = pso(\n",
    "            population, pop_velocity, global_, global_loss_, local_best_pos, loss_population,\n",
    "            w_max, w_min, c1, c2, i, n_itr, lamda\n",
    "        )\n",
    "        \n",
    "        if (i-1) % 500 == 0:\n",
    "            print('simulation: {} || iteration: {} || global_loss: {:.5f}'.format(j+1, i, global_loss_))\n",
    "\n",
    "        global_history[i] = global_\n",
    "        global_loss_history[i] = global_loss_\n",
    "\n",
    "    if np.min(loss_history) > global_loss_history[-1]:\n",
    "        the_best_loss_history = np.copy(global_loss_history)\n",
    "        the_best_param_history = np.copy(global_history)\n",
    "        \n",
    "    param_history[j] = np.copy(global_history[-1])\n",
    "    loss_history[j] = np.copy(global_loss_history[-1])\n",
    "    \n",
    "    print('simulation: {} || the best loss: {:.10f}'.format(j, the_best_loss_history[-1]))"
   ]
  },
  {
   "cell_type": "code",
   "execution_count": null,
   "metadata": {},
   "outputs": [],
   "source": [
    "# Save the simulation\n",
    "np.save('result/param_history.npy', param_history)\n",
    "np.save('result/loss_history.npy', loss_history)\n",
    "np.save('result/the_best_loss_history.npy', the_best_loss_history)\n",
    "np.save('result/the_best_param_history.npy', the_best_param_history)\n",
    "\n",
    "f = open(\"result/sim.cfg\", \"w+\")\n",
    "f.writelines('num: {} # The number of particles\\n'.format(num))\n",
    "f.writelines('n_sim: {} # The number of simulation loop\\n'.format(n_sim))\n",
    "f.writelines('n_itr: {} # The number of iteration for each simulation\\n'.format(n_itr))\n",
    "f.writelines('\\n# Lambda value\\n')\n",
    "f.writelines('lambda0: {}'.format(lamda[0]))\n",
    "f.writelines('lambda1: {}'.format(lamda[1]))\n",
    "f.writelines('\\n# The boundary of the initialization value\\n')\n",
    "f.writelines('r_kp: {}\\n'.format(r_kp))\n",
    "f.writelines('r_ki: {}\\n'.format(r_ki))\n",
    "f.writelines('r_kd: {}\\n'.format(r_kd))\n",
    "f.writelines('\\n# The PSO hyperparameters\\n')\n",
    "f.writelines('w: {}\\n'.format(w))\n",
    "f.writelines('c1: {}\\n'.format(c1))\n",
    "f.writelines('c2: {}\\n'.format(c2))\n",
    "f.close()"
   ]
  },
  {
   "cell_type": "code",
   "execution_count": null,
   "metadata": {},
   "outputs": [],
   "source": [
    "print('Lambda')\n",
    "print(lamda)\n",
    "print('Parameters')\n",
    "print(global_)\n",
    "print('Total loss: {}'.format(global_loss_))\n",
    "print('MAE: {}'.format(mean_absolute_error(t0, v0, global_)))\n",
    "print('MAJ: {}'.format(mean_absolute_jerk(t0, v0, global_)))\n",
    "print('MSJ: {}'.format(mean_squared_jerk(t0, v0, global_)))\n",
    "print('MAUD: {}'.format(mean_absolute_u_dot(t0, v0, global_)))\n",
    "print('maximum %OS: {}'.format(max_percent_overshoot(t0, v0, global_)))"
   ]
  },
  {
   "cell_type": "code",
   "execution_count": null,
   "metadata": {},
   "outputs": [],
   "source": [
    "print('MSUD: {}'.format(mean_squared_u_dot(t0, v0, np.array([0.56458294, 2.2533995,  0.07817718]))))"
   ]
  },
  {
   "cell_type": "code",
   "execution_count": null,
   "metadata": {},
   "outputs": [],
   "source": [
    "mv, cs1, cs2 = forward_propagation(t0, v0, global_)\n",
    "plt.plot(v0)\n",
    "plt.plot(mv)"
   ]
  },
  {
   "cell_type": "code",
   "execution_count": null,
   "metadata": {},
   "outputs": [],
   "source": [
    "plt.plot(cs1)"
   ]
  },
  {
   "cell_type": "code",
   "execution_count": null,
   "metadata": {},
   "outputs": [],
   "source": [
    "eo = 200\n",
    "el = 500\n",
    "plt.plot(v0[eo:el])\n",
    "plt.plot(mv[eo:el])"
   ]
  },
  {
   "cell_type": "code",
   "execution_count": null,
   "metadata": {},
   "outputs": [],
   "source": []
  }
 ],
 "metadata": {
  "kernelspec": {
   "display_name": "Python 3",
   "language": "python",
   "name": "python3"
  },
  "language_info": {
   "codemirror_mode": {
    "name": "ipython",
    "version": 3
   },
   "file_extension": ".py",
   "mimetype": "text/x-python",
   "name": "python",
   "nbconvert_exporter": "python",
   "pygments_lexer": "ipython3",
   "version": "3.9.5"
  },
  "latex_envs": {
   "LaTeX_envs_menu_present": true,
   "autoclose": false,
   "autocomplete": true,
   "bibliofile": "biblio.bib",
   "cite_by": "apalike",
   "current_citInitial": 1,
   "eqLabelWithNumbers": true,
   "eqNumInitial": 1,
   "hotkeys": {
    "equation": "Ctrl-E",
    "itemize": "Ctrl-I"
   },
   "labels_anchors": false,
   "latex_user_defs": false,
   "report_style_numbering": false,
   "user_envs_cfg": false
  },
  "toc": {
   "base_numbering": 1,
   "nav_menu": {},
   "number_sections": true,
   "sideBar": true,
   "skip_h1_title": false,
   "title_cell": "Table of Contents",
   "title_sidebar": "Contents",
   "toc_cell": false,
   "toc_position": {},
   "toc_section_display": true,
   "toc_window_display": false
  },
  "toc-autonumbering": true
 },
 "nbformat": 4,
 "nbformat_minor": 4
}
