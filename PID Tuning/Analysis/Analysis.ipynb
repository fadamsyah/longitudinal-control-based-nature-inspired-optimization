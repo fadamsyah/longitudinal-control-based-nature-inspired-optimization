{
 "cells": [
  {
   "cell_type": "code",
   "execution_count": 1,
   "metadata": {},
   "outputs": [],
   "source": [
    "import numpy as np\n",
    "import numba as nb\n",
    "import matplotlib.pyplot as plt\n",
    "import pandas as pd\n",
    "from numba import njit, prange\n",
    "from os import listdir\n",
    "from os.path import isfile, join\n",
    "\n",
    "plt.style.use(['science'])"
   ]
  },
  {
   "cell_type": "code",
   "execution_count": 10,
   "metadata": {},
   "outputs": [
    {
     "name": "stdout",
     "output_type": "stream",
     "text": [
      "The minimum loss algorithm: pso\n",
      "[0.91199777 1.58133764 0.03292952]\n"
     ]
    }
   ],
   "source": [
    "dir_names =  ['pso', 'apso', 'fpa_original', 'fpa']\n",
    "param_names = ['kp', 'ki', 'kd']\n",
    "\n",
    "data_loss = {}\n",
    "data_loss_summary = {'name': [], 'min': [], 'mean': [], 'std': []}\n",
    "data_best_loss_history = {}\n",
    "data_best_param = {'name': []}\n",
    "for param_name in param_names:\n",
    "    data_best_param[param_name] = []\n",
    "\n",
    "temp = np.Inf\n",
    "    \n",
    "for dir_name in dir_names:\n",
    "    lh = np.load('../'+dir_name+'/result/loss_history.npy')\n",
    "    ph = np.load('../'+dir_name+'/result/param_history.npy')\n",
    "    lb = np.load('../'+dir_name+'/result/the_best_loss_history.npy')\n",
    "    pb = np.load('../'+dir_name+'/result/the_best_param_history.npy')\n",
    "    \n",
    "    data_loss[dir_name] = lh\n",
    "    \n",
    "    data_best_loss_history[dir_name] = lb\n",
    "    \n",
    "    data_loss_summary['name'].append(dir_name)\n",
    "    data_loss_summary['min'].append(lb[-1])\n",
    "    data_loss_summary['mean'].append(np.mean(lh))\n",
    "    data_loss_summary['std'].append(np.std(lh))\n",
    "    \n",
    "    data_best_param['name'].append(dir_name)\n",
    "    for i in range(len(param_names)):\n",
    "        data_best_param[param_names[i]].append(pb[-1][i])\n",
    "        \n",
    "    if lb[-1] < temp:\n",
    "        alg_name = dir_name\n",
    "        params = np.copy(pb[-1])\n",
    "        temp = lb[-1]\n",
    "\n",
    "df_loss = pd.DataFrame(data_loss)\n",
    "df_loss_summary = pd.DataFrame(data_loss_summary)\n",
    "df_best_param = pd.DataFrame(data_best_param)\n",
    "df_best_loss_history = pd.DataFrame(data_best_loss_history)\n",
    "\n",
    "print('The minimum loss algorithm: '+ alg_name)\n",
    "print(params)"
   ]
  },
  {
   "cell_type": "code",
   "execution_count": 11,
   "metadata": {},
   "outputs": [
    {
     "data": {
      "text/html": [
       "<div>\n",
       "<style scoped>\n",
       "    .dataframe tbody tr th:only-of-type {\n",
       "        vertical-align: middle;\n",
       "    }\n",
       "\n",
       "    .dataframe tbody tr th {\n",
       "        vertical-align: top;\n",
       "    }\n",
       "\n",
       "    .dataframe thead th {\n",
       "        text-align: right;\n",
       "    }\n",
       "</style>\n",
       "<table border=\"1\" class=\"dataframe\">\n",
       "  <thead>\n",
       "    <tr style=\"text-align: right;\">\n",
       "      <th></th>\n",
       "      <th>name</th>\n",
       "      <th>min</th>\n",
       "      <th>mean</th>\n",
       "      <th>std</th>\n",
       "    </tr>\n",
       "  </thead>\n",
       "  <tbody>\n",
       "    <tr>\n",
       "      <th>0</th>\n",
       "      <td>pso</td>\n",
       "      <td>0.000961</td>\n",
       "      <td>0.000961</td>\n",
       "      <td>6.975154e-10</td>\n",
       "    </tr>\n",
       "    <tr>\n",
       "      <th>1</th>\n",
       "      <td>apso</td>\n",
       "      <td>0.000988</td>\n",
       "      <td>0.001195</td>\n",
       "      <td>2.021491e-04</td>\n",
       "    </tr>\n",
       "    <tr>\n",
       "      <th>2</th>\n",
       "      <td>fpa_original</td>\n",
       "      <td>0.000961</td>\n",
       "      <td>0.000961</td>\n",
       "      <td>1.665583e-18</td>\n",
       "    </tr>\n",
       "    <tr>\n",
       "      <th>3</th>\n",
       "      <td>fpa</td>\n",
       "      <td>0.000961</td>\n",
       "      <td>0.000961</td>\n",
       "      <td>1.483417e-18</td>\n",
       "    </tr>\n",
       "  </tbody>\n",
       "</table>\n",
       "</div>"
      ],
      "text/plain": [
       "           name       min      mean           std\n",
       "0           pso  0.000961  0.000961  6.975154e-10\n",
       "1          apso  0.000988  0.001195  2.021491e-04\n",
       "2  fpa_original  0.000961  0.000961  1.665583e-18\n",
       "3           fpa  0.000961  0.000961  1.483417e-18"
      ]
     },
     "execution_count": 11,
     "metadata": {},
     "output_type": "execute_result"
    }
   ],
   "source": [
    "df_loss_summary"
   ]
  },
  {
   "cell_type": "code",
   "execution_count": null,
   "metadata": {},
   "outputs": [],
   "source": []
  }
 ],
 "metadata": {
  "kernelspec": {
   "display_name": "Python 3",
   "language": "python",
   "name": "python3"
  },
  "language_info": {
   "codemirror_mode": {
    "name": "ipython",
    "version": 3
   },
   "file_extension": ".py",
   "mimetype": "text/x-python",
   "name": "python",
   "nbconvert_exporter": "python",
   "pygments_lexer": "ipython3",
   "version": "3.7.9"
  }
 },
 "nbformat": 4,
 "nbformat_minor": 4
}
