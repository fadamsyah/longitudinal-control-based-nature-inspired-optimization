{
 "cells": [
  {
   "cell_type": "markdown",
   "metadata": {},
   "source": [
    "# IMPORT"
   ]
  },
  {
   "cell_type": "code",
   "execution_count": 1,
   "metadata": {},
   "outputs": [],
   "source": [
    "import numpy as np\n",
    "import numba as nb\n",
    "import matplotlib.pyplot as plt\n",
    "import pandas as pd\n",
    "from numba import njit, prange\n",
    "from os import listdir\n",
    "from os.path import isfile, join\n",
    "from scipy.integrate import cumtrapz\n",
    "\n",
    "plt.style.use(['science'])"
   ]
  },
  {
   "cell_type": "markdown",
   "metadata": {},
   "source": [
    "## Simulation Results"
   ]
  },
  {
   "cell_type": "code",
   "execution_count": 2,
   "metadata": {},
   "outputs": [
    {
     "name": "stdout",
     "output_type": "stream",
     "text": [
      "The minimum loss algorithm: pso\n",
      "[0.91199777 1.58133764 0.03292952]\n"
     ]
    }
   ],
   "source": [
    "dir_names =  ['pso', 'apso', 'fpa_original', 'fpa']\n",
    "param_names = ['kp', 'ki', 'kd']\n",
    "\n",
    "data_loss = {}\n",
    "data_loss_summary = {'name': [], 'min': [], 'mean': [], 'std': []}\n",
    "data_best_loss_history = {}\n",
    "data_best_param = {'name': []}\n",
    "for param_name in param_names:\n",
    "    data_best_param[param_name] = []\n",
    "\n",
    "temp = np.Inf\n",
    "    \n",
    "for dir_name in dir_names:\n",
    "    lh = np.load('../'+dir_name+'/result/loss_history.npy')\n",
    "    ph = np.load('../'+dir_name+'/result/param_history.npy')\n",
    "    lb = np.load('../'+dir_name+'/result/the_best_loss_history.npy')\n",
    "    pb = np.load('../'+dir_name+'/result/the_best_param_history.npy')\n",
    "    \n",
    "    data_loss[dir_name] = lh\n",
    "    \n",
    "    data_best_loss_history[dir_name] = lb\n",
    "    \n",
    "    data_loss_summary['name'].append(dir_name)\n",
    "    data_loss_summary['min'].append(lb[-1])\n",
    "    data_loss_summary['mean'].append(np.mean(lh))\n",
    "    data_loss_summary['std'].append(np.std(lh))\n",
    "    \n",
    "    data_best_param['name'].append(dir_name)\n",
    "    for i in range(len(param_names)):\n",
    "        data_best_param[param_names[i]].append(pb[-1][i])\n",
    "        \n",
    "    if lb[-1] < temp:\n",
    "        alg_name = dir_name\n",
    "        params = np.copy(pb[-1])\n",
    "        temp = lb[-1]\n",
    "\n",
    "df_loss = pd.DataFrame(data_loss)\n",
    "df_loss_summary = pd.DataFrame(data_loss_summary)\n",
    "df_best_param = pd.DataFrame(data_best_param)\n",
    "df_best_loss_history = pd.DataFrame(data_best_loss_history)\n",
    "\n",
    "print('The minimum loss algorithm: '+ alg_name)\n",
    "print(params)"
   ]
  },
  {
   "cell_type": "code",
   "execution_count": 3,
   "metadata": {},
   "outputs": [
    {
     "data": {
      "text/html": [
       "<div>\n",
       "<style scoped>\n",
       "    .dataframe tbody tr th:only-of-type {\n",
       "        vertical-align: middle;\n",
       "    }\n",
       "\n",
       "    .dataframe tbody tr th {\n",
       "        vertical-align: top;\n",
       "    }\n",
       "\n",
       "    .dataframe thead th {\n",
       "        text-align: right;\n",
       "    }\n",
       "</style>\n",
       "<table border=\"1\" class=\"dataframe\">\n",
       "  <thead>\n",
       "    <tr style=\"text-align: right;\">\n",
       "      <th></th>\n",
       "      <th>name</th>\n",
       "      <th>min</th>\n",
       "      <th>mean</th>\n",
       "      <th>std</th>\n",
       "    </tr>\n",
       "  </thead>\n",
       "  <tbody>\n",
       "    <tr>\n",
       "      <th>0</th>\n",
       "      <td>pso</td>\n",
       "      <td>0.000961</td>\n",
       "      <td>0.000961</td>\n",
       "      <td>6.975154e-10</td>\n",
       "    </tr>\n",
       "    <tr>\n",
       "      <th>1</th>\n",
       "      <td>apso</td>\n",
       "      <td>0.000988</td>\n",
       "      <td>0.001195</td>\n",
       "      <td>2.021491e-04</td>\n",
       "    </tr>\n",
       "    <tr>\n",
       "      <th>2</th>\n",
       "      <td>fpa_original</td>\n",
       "      <td>0.000961</td>\n",
       "      <td>0.000961</td>\n",
       "      <td>1.665583e-18</td>\n",
       "    </tr>\n",
       "    <tr>\n",
       "      <th>3</th>\n",
       "      <td>fpa</td>\n",
       "      <td>0.000961</td>\n",
       "      <td>0.000961</td>\n",
       "      <td>1.483417e-18</td>\n",
       "    </tr>\n",
       "  </tbody>\n",
       "</table>\n",
       "</div>"
      ],
      "text/plain": [
       "           name       min      mean           std\n",
       "0           pso  0.000961  0.000961  6.975154e-10\n",
       "1          apso  0.000988  0.001195  2.021491e-04\n",
       "2  fpa_original  0.000961  0.000961  1.665583e-18\n",
       "3           fpa  0.000961  0.000961  1.483417e-18"
      ]
     },
     "execution_count": 3,
     "metadata": {},
     "output_type": "execute_result"
    }
   ],
   "source": [
    "df_loss_summary"
   ]
  },
  {
   "cell_type": "markdown",
   "metadata": {},
   "source": [
    "# Analysis (Cost: Mean Absolute Squared)"
   ]
  },
  {
   "cell_type": "markdown",
   "metadata": {},
   "source": [
    "## Setpoint"
   ]
  },
  {
   "cell_type": "code",
   "execution_count": 4,
   "metadata": {},
   "outputs": [],
   "source": [
    "def step(tt):\n",
    "    out = np.zeros_like(tt)\n",
    "    out[tt >= 0] = 1\n",
    "    return out\n",
    "\n",
    "def ramp(tt):\n",
    "    out = np.array(tt)\n",
    "    out[tt < 0] = 0\n",
    "    return out\n",
    "\n",
    "def jitter(gain, omega, tt, t0, tf):\n",
    "    out = np.array(tt)\n",
    "    \n",
    "    out = gain * np.sin(omega*(tt-t0))\n",
    "    out[tt-t0 < 0] = 0\n",
    "    out[tt-tf > 0] = 0\n",
    "    return out"
   ]
  },
  {
   "cell_type": "code",
   "execution_count": 5,
   "metadata": {},
   "outputs": [
    {
     "name": "stderr",
     "output_type": "stream",
     "text": [
      "No handles with labels found to put in legend.\n"
     ]
    },
    {
     "data": {
      "image/png": "[encoded data removed]",
      "text/plain": [
       "<Figure size 252x189 with 1 Axes>"
      ]
     },
     "metadata": {
      "needs_background": "light"
     },
     "output_type": "display_data"
    }
   ],
   "source": [
    "t0 = np.arange(3, 288, 0.02)\n",
    "a0 = ramp(t0-3) - ramp(t0-4.5) - ramp(t0-8) + ramp(t0-9.5) \\\n",
    "    - 0.25*ramp(t0-27) + 0.25*ramp(t0-30) + 0.25*ramp(t0-32) - 0.25*ramp(t0-35) \\\n",
    "    + 0.5*ramp(t0-40) - 1.*ramp(t0-44) + 0.5*ramp(t0-48) \\\n",
    "    - 1*ramp(t0-60) + 2*ramp(t0 - 62) - 1*ramp(t0-64) \\\n",
    "    - 0.1*ramp(t0-79) + 0.4*ramp(t0-85) - 0.3*ramp(t0-87) \\\n",
    "    + 0.35*ramp(t0-95) - 0.7*ramp(t0-98) + 0.35*ramp(t0-101) \\\n",
    "    - 0.5*ramp(t0-101) + 1*ramp(t0-102.5) - 0.5*ramp(t0-104) \\\n",
    "    + 0.35*ramp(t0-104) - 0.7*ramp(t0-107) + 0.35*ramp(t0-110) \\\n",
    "    - 0.15*ramp(t0-110) + 0.3*ramp(t0-114) - 0.15*ramp(t0-118) \\\n",
    "    + jitter(0.25, np.pi / 2.0, t0, 132, 152) \\\n",
    "    + 2.*ramp(t0-160) - 2.*ramp(t0-161) - 2.*ramp(t0-163) + 2.*ramp(t0-164) \\\n",
    "    - 2.*ramp(t0 - 180) + 2*ramp(t0-181) + 2 *ramp(t0-183) - 2*ramp(t0-184) \\\n",
    "    + 2.0 * ramp(t0-210) - 2.0*ramp(t0-210.2) - 2.0*ramp(t0-216) + 2.0*ramp(t0-216.4)\\\n",
    "    + 2.0 * ramp(t0-218.4) - 2.0*ramp(t0-218.8)  - 2.0*ramp(t0 - 230) + 2.0*ramp(t0-230.2) \\\n",
    "    - 1.5*ramp(t0-240) + 1.5*ramp(t0-241) + 1.5*ramp(t0-243) - 1.5*ramp(t0-244) #\\\n",
    "    #+ 5.0*step(t0-255) - 5.0*step(t0-256)\n",
    "t0 = np.arange(0, 285, 0.02)\n",
    "v0 = cumtrapz(a0, t0, initial=0.) + 1.\n",
    "\n",
    "plt.figure()\n",
    "plt.plot(t0, v0, color='black')\n",
    "plt.xlabel('Time $(s)$')\n",
    "plt.ylabel('Speed $(m/s)$')\n",
    "plt.legend()\n",
    "plt.savefig('img/pid_tuning_setpoint.png', dpi=800, transparent=True)\n",
    "plt.show()"
   ]
  },
  {
   "cell_type": "markdown",
   "metadata": {},
   "source": [
    "## Model"
   ]
  },
  {
   "cell_type": "code",
   "execution_count": 6,
   "metadata": {},
   "outputs": [],
   "source": [
    "# Steady State Response\n",
    "param_ssr = np.load('../model/ssr.npy')[-1]\n",
    "\n",
    "# Dynamics\n",
    "param_dynamics = np.load('../model/sys_id.npy')[-1]"
   ]
  },
  {
   "cell_type": "code",
   "execution_count": 7,
   "metadata": {},
   "outputs": [],
   "source": [
    "@njit\n",
    "def delayed_control_signal(i, u, u_list, td):\n",
    "    if i < td:\n",
    "        ut = 0.0\n",
    "    else:\n",
    "        if td == 0:\n",
    "            ut = u\n",
    "        else:\n",
    "            ut = u_list[i-td]\n",
    "    return ut\n",
    "_ = delayed_control_signal(1, 0.1, np.array([0.1, 0.2]), 0)\n",
    "\n",
    "@njit\n",
    "def clip(a, a_min, a_max):\n",
    "    if a > a_max:\n",
    "        return a_max\n",
    "    elif a < a_min:\n",
    "        return a_min\n",
    "    else:\n",
    "        return a\n",
    "    \n",
    "_ = clip(2.0, -1.0, 1.0)\n",
    "\n",
    "# Steady state response parameters\n",
    "beta1, beta2, beta3 = param_ssr\n",
    "\n",
    "# System parameters\n",
    "a1, a2, a3, b1, b2, b3, b4, c1, c2, c3, c4, td11, td12, td13, td21, td22, td23 = param_dynamics\n",
    "td11 = int(np.around(td11))\n",
    "td12 = int(np.around(td12))\n",
    "td13 = int(np.around(td13))\n",
    "td21 = int(np.around(td21))\n",
    "td22 = int(np.around(td22))\n",
    "td23 = int(np.around(td23))\n",
    "\n",
    "sat_min = -1.\n",
    "sat_max = 1.\n",
    "\n",
    "@njit\n",
    "def forward_propagation(t, v, param):    \n",
    "    kp, ki, kd = param\n",
    "\n",
    "    dt = np.mean(t[1:] - t[:-1])\n",
    "    \n",
    "    ki = ki * dt\n",
    "    kd = kd / dt    \n",
    "    \n",
    "    e_sum = 0.0\n",
    "    e_last = 0.0\n",
    "    e_int_state = 0 # 0 --> No Saturation || 1 --> Saturation (+) || -1 --> Saturation (-1)\n",
    "    is_start = True\n",
    "    \n",
    "    u1_list = np.empty(t.shape)\n",
    "    u2_list = np.empty(t.shape)\n",
    "    out = np.empty(t.shape)\n",
    "    y = 0.0\n",
    "    for i in range(t.shape[0]):     \n",
    "        # LONGITUDINAL CONTROLLER\n",
    "        sp = clip(v[i], 0.0, np.Inf)\n",
    "        sr = beta1 * (1 - np.exp(beta2*sp)) + beta3\n",
    "        sr = clip(sr, 0., sat_max) * 0.5\n",
    "        \n",
    "        err = sp - y\n",
    "        if e_int_state == 0:\n",
    "            e_sum += err\n",
    "        elif e_int_state == 1:\n",
    "            if err < 0:\n",
    "                e_sum += err\n",
    "        elif e_int_state == -1:\n",
    "            if err > 0:\n",
    "                e_sum += err\n",
    "        \n",
    "        if is_start:\n",
    "            temp = sr + kp * err + ki * e_sum + 0.\n",
    "            is_start = False\n",
    "        else:\n",
    "            temp = sr + kp * err + ki * e_sum + kd * (err - e_last)\n",
    "        \n",
    "        e_last = err\n",
    "\n",
    "        if temp > sat_max: # Saturation (+)\n",
    "            temp = sat_max\n",
    "            e_int_state = 1\n",
    "        elif temp < sat_min: # Saturation (-)\n",
    "            temp = sat_min\n",
    "            e_int_state = -1\n",
    "        else: # Not saturated\n",
    "            e_int_state = 0\n",
    "        \n",
    "        u1 = clip(temp, 0.0, sat_max)\n",
    "        u2 = clip(-temp, 0.0, -sat_min)\n",
    "        \n",
    "        # DYNAMICS     \n",
    "        u11t = delayed_control_signal(i, u1, u1_list, td11)\n",
    "        u12t = delayed_control_signal(i, u1, u1_list, td12)\n",
    "        u13t = delayed_control_signal(i, u1, u1_list, td13)\n",
    "        u21t = delayed_control_signal(i, u2, u2_list, td21)\n",
    "        u22t = delayed_control_signal(i, u2, u2_list, td22)\n",
    "        u23t = delayed_control_signal(i, u2, u2_list, td23)\n",
    "        \n",
    "        temp = 0.\n",
    "        if y != 0.:\n",
    "            temp = a1\n",
    "                    \n",
    "        y_dot = temp + a2 * y + a3 * y**2 \\\n",
    "                + b1 * u11t + b2 * np.exp(b3 * y + b4 * u12t) * u13t  \\\n",
    "                + c1 * u21t + c2 * np.exp(c3 * y + c4 * u22t) * u23t\n",
    "        \n",
    "        y += y_dot * dt\n",
    "        if y < 0.0:\n",
    "            y = 0.0\n",
    "\n",
    "        u1_list[i] = u1\n",
    "        u2_list[i] = u2\n",
    "        out[i] = y\n",
    "\n",
    "    return out, u1_list, u2_list\n",
    "_ = forward_propagation(np.arange(10, dtype=float), np.ones(10), np.array([0.1, 0.1, 0.1]))"
   ]
  },
  {
   "cell_type": "markdown",
   "metadata": {},
   "source": [
    "## Visualization"
   ]
  },
  {
   "cell_type": "code",
   "execution_count": 8,
   "metadata": {},
   "outputs": [
    {
     "name": "stderr",
     "output_type": "stream",
     "text": [
      "findfont: Font family ['serif'] not found. Falling back to DejaVu Sans.\n"
     ]
    },
    {
     "data": {
      "image/png": "[encoded data removed]",
      "text/plain": [
       "<Figure size 252x189 with 1 Axes>"
      ]
     },
     "metadata": {
      "needs_background": "light"
     },
     "output_type": "display_data"
    }
   ],
   "source": [
    "plt.figure()\n",
    "names = ['PSO', 'APSO', 'FPA Original', 'FPA']\n",
    "for i in range(len(dir_names)):\n",
    "    plt.scatter(df_loss.index.values, np.log10(df_loss[dir_names[i]]), s=2., label=names[i])\n",
    "plt.xlabel('Iteration')\n",
    "plt.ylabel('$\\mathrm{log}_{10}(loss)$')\n",
    "plt.legend(prop={'size': 6})\n",
    "plt.savefig('img/stability_check.png', dpi=600, transparent=True)\n",
    "plt.show()"
   ]
  },
  {
   "cell_type": "code",
   "execution_count": 9,
   "metadata": {},
   "outputs": [
    {
     "name": "stderr",
     "output_type": "stream",
     "text": [
      "findfont: Font family ['serif'] not found. Falling back to DejaVu Sans.\n"
     ]
    },
    {
     "data": {
      "image/png": "[encoded data removed]",
      "text/plain": [
       "<Figure size 252x189 with 1 Axes>"
      ]
     },
     "metadata": {
      "needs_background": "light"
     },
     "output_type": "display_data"
    }
   ],
   "source": [
    "mv, cs1, cs2 = forward_propagation(t0, v0, params)\n",
    "\n",
    "plt.figure()\n",
    "plt.plot(t0, v0, label='Setpoint', zorder=2, color='black', linestyle='--')\n",
    "plt.plot(t0, mv, label='Response', zorder=1, color='red', linewidth=2.)\n",
    "plt.xlabel('Time $(s)$')\n",
    "plt.ylabel('Speed $(m/s)$')\n",
    "plt.legend()\n",
    "plt.savefig('img/simulation_result.png', dpi=800, transparent=True)\n",
    "plt.show()"
   ]
  },
  {
   "cell_type": "code",
   "execution_count": 10,
   "metadata": {},
   "outputs": [
    {
     "name": "stderr",
     "output_type": "stream",
     "text": [
      "No handles with labels found to put in legend.\n"
     ]
    },
    {
     "data": {
      "image/png": "[encoded data removed]",
      "text/plain": [
       "<Figure size 252x189 with 1 Axes>"
      ]
     },
     "metadata": {
      "needs_background": "light"
     },
     "output_type": "display_data"
    }
   ],
   "source": [
    "plt.figure()\n",
    "plt.plot(t0, v0 - mv, color='black')\n",
    "plt.xlabel('Time (s)')\n",
    "plt.ylabel('Error $(m/s)$')\n",
    "plt.legend()\n",
    "plt.savefig('img/simulation_error.png', dpi=800, transparent=True)\n",
    "plt.show()"
   ]
  },
  {
   "cell_type": "markdown",
   "metadata": {},
   "source": [
    "## CARLA Simulation"
   ]
  },
  {
   "cell_type": "code",
   "execution_count": 11,
   "metadata": {},
   "outputs": [
    {
     "data": {
      "text/plain": [
       "[<matplotlib.lines.Line2D at 0x7f2c30df2d90>]"
      ]
     },
     "execution_count": 11,
     "metadata": {},
     "output_type": "execute_result"
    },
    {
     "data": {
      "image/png": "[encoded data removed]",
      "text/plain": [
       "<Figure size 252x189 with 1 Axes>"
      ]
     },
     "metadata": {
      "needs_background": "light"
     },
     "output_type": "display_data"
    }
   ],
   "source": [
    "df = pd.read_csv('../additional/cost0/carla_sim.csv')\n",
    "plt.plot(df.time, df.throttle)\n",
    "plt.plot(df.time, df.brake)"
   ]
  },
  {
   "cell_type": "code",
   "execution_count": 12,
   "metadata": {},
   "outputs": [
    {
     "data": {
      "image/png": "[encoded data removed]",
      "text/plain": [
       "<Figure size 252x189 with 1 Axes>"
      ]
     },
     "metadata": {
      "needs_background": "light"
     },
     "output_type": "display_data"
    }
   ],
   "source": [
    "plt.figure()\n",
    "plt.plot(df.time, df.sp_v, label='Setpoint', zorder=2, color='black', linestyle='--')\n",
    "plt.plot(df.time, df.speed, label='Response', zorder=1, color='red', linewidth=2.)\n",
    "plt.xlabel('Time $(s)$')\n",
    "plt.ylabel('Speed $(m/s)$')\n",
    "plt.legend()\n",
    "plt.savefig('img/carla_result.png', dpi=800, transparent=True)\n",
    "plt.show()"
   ]
  },
  {
   "cell_type": "markdown",
   "metadata": {},
   "source": [
    "# Additional Simulation"
   ]
  },
  {
   "cell_type": "code",
   "execution_count": 13,
   "metadata": {},
   "outputs": [],
   "source": [
    "@njit\n",
    "def gradient(a, t):\n",
    "    dt = np.mean(t[1:]-t[:-1])\n",
    "    \n",
    "#     forward = np.zeros_like(a)\n",
    "#     forward[:-1] = a[1:]\n",
    "#     forward[-1] = forward[-2]\n",
    "#     backward = np.zeros_like(a)\n",
    "#     backward[1:] = a[:-1]\n",
    "#     backward[0] = backward[1]    \n",
    "#     out = (forward - backward) / 2 / dt\n",
    "    \n",
    "    out = np.zeros_like(a)\n",
    "    out[1:-1] = (a[2:] - a[:-2]) / 2 / dt\n",
    "    out[0] = out[1]\n",
    "    out[-1] = out[-2]\n",
    "    return out\n",
    "_ = gradient(v0, t0)\n",
    "\n",
    "@njit\n",
    "def mean_squared_error(t, v, param):\n",
    "    mv, _, _ = forward_propagation(t, v, param)\n",
    "    error = v - mv\n",
    "    cost = np.mean(error**2)\n",
    "    return cost\n",
    "_ = mean_squared_error(np.arange(10, dtype=float), np.ones(10), np.array([0.1, 0.1, 0.1]))\n",
    "\n",
    "@njit\n",
    "def mean_absolute_u_dot(t, v, param):\n",
    "    mv, cs1, cs2 = forward_propagation(t, v, param)\n",
    "    \n",
    "    cs1_dot = gradient(cs1, t)\n",
    "    cs2_dot = gradient(cs2, t)\n",
    "    return np.mean(np.abs(cs1_dot)**2+np.abs(cs2_dot)**2)\n",
    "_ = mean_absolute_u_dot(np.arange(10, dtype=float), np.ones(10), np.array([0.1, 0.1, 0.1]))"
   ]
  },
  {
   "cell_type": "code",
   "execution_count": 14,
   "metadata": {},
   "outputs": [],
   "source": [
    "# lamda_gain = [[1, 5, 10, 20, 30],\n",
    "#               [1, 10, 20, 30, 40],\n",
    "#               [1, 5, 10, 15, 20]]\n",
    "lamda_gain = [[1, 10, 30],\n",
    "              [1, 20, 40],\n",
    "              [1, 10, 20]]\n",
    "data_summary = {'type': [], 'lambda': [],\n",
    "                'kp': [], 'ki': [], 'kd': [],\n",
    "                'mse_train': [], 'mse_test': [],\n",
    "                'mae_u_dot_train': [], 'mae_u_dot_test': []}\n",
    "for i in range(1, 4):\n",
    "    for j in lamda_gain[i-1]:\n",
    "        exec(f\"df{i}{j}=pd.read_csv('../additional/cost{i}/lamda_0_{j}/carla_sim.csv')\")\n",
    "        exec(f\"err = df{i}{j}.ev.values\")\n",
    "        exec(f\"throttle = df{i}{j}.throttle.values\")\n",
    "        exec(f\"tsim = df{i}{j}.time.values\")\n",
    "        exec(f\"pid_param = np.load('../additional/cost{i}/lamda_0_{j}/the_best_param_history.npy')[-1]\")\n",
    "        data_summary['type'].append(i)\n",
    "        data_summary['lambda'].append(j)\n",
    "        data_summary['kp'].append(pid_param[0])\n",
    "        data_summary['ki'].append(pid_param[1])\n",
    "        data_summary['kd'].append(pid_param[2])\n",
    "        data_summary['mse_train'].append(mean_squared_error(t0, v0, pid_param))\n",
    "        data_summary['mse_test'].append(np.mean(err**2))\n",
    "        data_summary['mae_u_dot_train'].append(mean_absolute_u_dot(t0, v0, pid_param))\n",
    "        data_summary['mae_u_dot_test'].append(np.mean(np.abs(np.gradient(throttle, tsim))))\n",
    "        \n",
    "df_summary = pd.DataFrame(data_summary)"
   ]
  },
  {
   "cell_type": "code",
   "execution_count": 15,
   "metadata": {},
   "outputs": [
    {
     "data": {
      "text/html": [
       "<div>\n",
       "<style scoped>\n",
       "    .dataframe tbody tr th:only-of-type {\n",
       "        vertical-align: middle;\n",
       "    }\n",
       "\n",
       "    .dataframe tbody tr th {\n",
       "        vertical-align: top;\n",
       "    }\n",
       "\n",
       "    .dataframe thead th {\n",
       "        text-align: right;\n",
       "    }\n",
       "</style>\n",
       "<table border=\"1\" class=\"dataframe\">\n",
       "  <thead>\n",
       "    <tr style=\"text-align: right;\">\n",
       "      <th></th>\n",
       "      <th>type</th>\n",
       "      <th>lambda</th>\n",
       "      <th>kp</th>\n",
       "      <th>ki</th>\n",
       "      <th>kd</th>\n",
       "      <th>mse_train</th>\n",
       "      <th>mse_test</th>\n",
       "      <th>mae_u_dot_train</th>\n",
       "      <th>mae_u_dot_test</th>\n",
       "    </tr>\n",
       "  </thead>\n",
       "  <tbody>\n",
       "    <tr>\n",
       "      <th>0</th>\n",
       "      <td>1</td>\n",
       "      <td>1</td>\n",
       "      <td>0.868324</td>\n",
       "      <td>1.309858</td>\n",
       "      <td>0.034897</td>\n",
       "      <td>0.000986</td>\n",
       "      <td>0.040908</td>\n",
       "      <td>0.014516</td>\n",
       "      <td>0.214131</td>\n",
       "    </tr>\n",
       "    <tr>\n",
       "      <th>1</th>\n",
       "      <td>1</td>\n",
       "      <td>10</td>\n",
       "      <td>1.148113</td>\n",
       "      <td>0.003583</td>\n",
       "      <td>0.057037</td>\n",
       "      <td>0.057035</td>\n",
       "      <td>0.026813</td>\n",
       "      <td>15.162113</td>\n",
       "      <td>0.221209</td>\n",
       "    </tr>\n",
       "    <tr>\n",
       "      <th>2</th>\n",
       "      <td>1</td>\n",
       "      <td>30</td>\n",
       "      <td>0.471461</td>\n",
       "      <td>0.000476</td>\n",
       "      <td>0.058301</td>\n",
       "      <td>0.423748</td>\n",
       "      <td>0.035788</td>\n",
       "      <td>1.826586</td>\n",
       "      <td>0.156041</td>\n",
       "    </tr>\n",
       "    <tr>\n",
       "      <th>3</th>\n",
       "      <td>2</td>\n",
       "      <td>1</td>\n",
       "      <td>0.397459</td>\n",
       "      <td>0.773776</td>\n",
       "      <td>0.027342</td>\n",
       "      <td>0.001931</td>\n",
       "      <td>0.047988</td>\n",
       "      <td>0.001830</td>\n",
       "      <td>0.154461</td>\n",
       "    </tr>\n",
       "    <tr>\n",
       "      <th>4</th>\n",
       "      <td>2</td>\n",
       "      <td>20</td>\n",
       "      <td>0.296189</td>\n",
       "      <td>0.386369</td>\n",
       "      <td>0.022363</td>\n",
       "      <td>0.004343</td>\n",
       "      <td>0.051247</td>\n",
       "      <td>0.001291</td>\n",
       "      <td>0.110814</td>\n",
       "    </tr>\n",
       "    <tr>\n",
       "      <th>5</th>\n",
       "      <td>2</td>\n",
       "      <td>40</td>\n",
       "      <td>0.279533</td>\n",
       "      <td>0.285842</td>\n",
       "      <td>0.020807</td>\n",
       "      <td>0.006198</td>\n",
       "      <td>0.054572</td>\n",
       "      <td>0.001227</td>\n",
       "      <td>0.101642</td>\n",
       "    </tr>\n",
       "    <tr>\n",
       "      <th>6</th>\n",
       "      <td>3</td>\n",
       "      <td>1</td>\n",
       "      <td>0.411328</td>\n",
       "      <td>0.629758</td>\n",
       "      <td>0.037844</td>\n",
       "      <td>0.002165</td>\n",
       "      <td>0.037689</td>\n",
       "      <td>0.001824</td>\n",
       "      <td>0.142419</td>\n",
       "    </tr>\n",
       "    <tr>\n",
       "      <th>7</th>\n",
       "      <td>3</td>\n",
       "      <td>10</td>\n",
       "      <td>0.325759</td>\n",
       "      <td>0.159262</td>\n",
       "      <td>0.033084</td>\n",
       "      <td>0.009162</td>\n",
       "      <td>0.043358</td>\n",
       "      <td>0.001297</td>\n",
       "      <td>0.110939</td>\n",
       "    </tr>\n",
       "    <tr>\n",
       "      <th>8</th>\n",
       "      <td>3</td>\n",
       "      <td>20</td>\n",
       "      <td>0.294440</td>\n",
       "      <td>0.087239</td>\n",
       "      <td>0.031503</td>\n",
       "      <td>0.016824</td>\n",
       "      <td>0.048125</td>\n",
       "      <td>0.001175</td>\n",
       "      <td>0.104195</td>\n",
       "    </tr>\n",
       "  </tbody>\n",
       "</table>\n",
       "</div>"
      ],
      "text/plain": [
       "   type  lambda        kp        ki        kd  mse_train  mse_test  \\\n",
       "0     1       1  0.868324  1.309858  0.034897   0.000986  0.040908   \n",
       "1     1      10  1.148113  0.003583  0.057037   0.057035  0.026813   \n",
       "2     1      30  0.471461  0.000476  0.058301   0.423748  0.035788   \n",
       "3     2       1  0.397459  0.773776  0.027342   0.001931  0.047988   \n",
       "4     2      20  0.296189  0.386369  0.022363   0.004343  0.051247   \n",
       "5     2      40  0.279533  0.285842  0.020807   0.006198  0.054572   \n",
       "6     3       1  0.411328  0.629758  0.037844   0.002165  0.037689   \n",
       "7     3      10  0.325759  0.159262  0.033084   0.009162  0.043358   \n",
       "8     3      20  0.294440  0.087239  0.031503   0.016824  0.048125   \n",
       "\n",
       "   mae_u_dot_train  mae_u_dot_test  \n",
       "0         0.014516        0.214131  \n",
       "1        15.162113        0.221209  \n",
       "2         1.826586        0.156041  \n",
       "3         0.001830        0.154461  \n",
       "4         0.001291        0.110814  \n",
       "5         0.001227        0.101642  \n",
       "6         0.001824        0.142419  \n",
       "7         0.001297        0.110939  \n",
       "8         0.001175        0.104195  "
      ]
     },
     "execution_count": 15,
     "metadata": {},
     "output_type": "execute_result"
    }
   ],
   "source": [
    "df_summary"
   ]
  },
  {
   "cell_type": "code",
   "execution_count": 16,
   "metadata": {},
   "outputs": [
    {
     "data": {
      "text/plain": [
       "[<matplotlib.lines.Line2D at 0x7f2c311b3350>]"
      ]
     },
     "execution_count": 16,
     "metadata": {},
     "output_type": "execute_result"
    },
    {
     "data": {
      "image/png": "[encoded data removed]",
      "text/plain": [
       "<Figure size 252x189 with 1 Axes>"
      ]
     },
     "metadata": {
      "needs_background": "light"
     },
     "output_type": "display_data"
    }
   ],
   "source": [
    "plt.plot(df110.speed)\n",
    "plt.plot(df220.speed)\n",
    "plt.plot(df310.speed)"
   ]
  },
  {
   "cell_type": "code",
   "execution_count": 17,
   "metadata": {},
   "outputs": [
    {
     "data": {
      "text/plain": [
       "[<matplotlib.lines.Line2D at 0x7f2c31308210>]"
      ]
     },
     "execution_count": 17,
     "metadata": {},
     "output_type": "execute_result"
    },
    {
     "data": {
      "image/png": "[encoded data removed]",
      "text/plain": [
       "<Figure size 252x189 with 1 Axes>"
      ]
     },
     "metadata": {
      "needs_background": "light"
     },
     "output_type": "display_data"
    }
   ],
   "source": [
    "plt.plot(df110.throttle[:])\n",
    "plt.plot(df220.throttle[:])\n",
    "plt.plot(df310.throttle[:])"
   ]
  },
  {
   "cell_type": "code",
   "execution_count": 18,
   "metadata": {},
   "outputs": [
    {
     "data": {
      "text/plain": [
       "[<matplotlib.lines.Line2D at 0x7f2c319923d0>]"
      ]
     },
     "execution_count": 18,
     "metadata": {},
     "output_type": "execute_result"
    },
    {
     "data": {
      "image/png": "[encoded data removed]",
      "text/plain": [
       "<Figure size 252x189 with 1 Axes>"
      ]
     },
     "metadata": {
      "needs_background": "light"
     },
     "output_type": "display_data"
    }
   ],
   "source": [
    "plt.plot(df110.speed[:200])\n",
    "plt.plot(df220.speed[:200])\n",
    "plt.plot(df310.speed[:200])"
   ]
  },
  {
   "cell_type": "code",
   "execution_count": 19,
   "metadata": {},
   "outputs": [
    {
     "data": {
      "text/plain": [
       "[<matplotlib.lines.Line2D at 0x7f2c31431590>]"
      ]
     },
     "execution_count": 19,
     "metadata": {},
     "output_type": "execute_result"
    },
    {
     "data": {
      "image/png": "[encoded data removed]",
      "text/plain": [
       "<Figure size 252x189 with 1 Axes>"
      ]
     },
     "metadata": {
      "needs_background": "light"
     },
     "output_type": "display_data"
    }
   ],
   "source": [
    "plt.plot(df110.throttle[:200])\n",
    "plt.plot(df220.throttle[:200])\n",
    "plt.plot(df310.throttle[:200])\n",
    "# plt.ylim(0.2, 0.5)"
   ]
  },
  {
   "cell_type": "markdown",
   "metadata": {},
   "source": [
    "## Plot Comparison 1"
   ]
  },
  {
   "cell_type": "code",
   "execution_count": 20,
   "metadata": {},
   "outputs": [
    {
     "data": {
      "image/png": "[encoded data removed]",
      "text/plain": [
       "<Figure size 252x189 with 1 Axes>"
      ]
     },
     "metadata": {
      "needs_background": "light"
     },
     "output_type": "display_data"
    }
   ],
   "source": [
    "start = 2000\n",
    "stop = 2500\n",
    "plt.plot(df220.time[start:stop], df220.speed[start:stop], label='response')\n",
    "plt.plot(df220.time[start:stop], df220.sp_v[start:stop], label='setpoint')\n",
    "plt.xlabel('Waktu $(s)$')\n",
    "plt.ylabel('Speed $(m/s)$')\n",
    "plt.legend()\n",
    "plt.title('Cost-function 2 | lambda 20')\n",
    "plt.savefig('img/1cf_220.png', dpi=600, transparent=True)\n",
    "plt.show()"
   ]
  },
  {
   "cell_type": "code",
   "execution_count": 21,
   "metadata": {},
   "outputs": [
    {
     "data": {
      "image/png": "[encoded data removed]",
      "text/plain": [
       "<Figure size 252x189 with 1 Axes>"
      ]
     },
     "metadata": {
      "needs_background": "light"
     },
     "output_type": "display_data"
    }
   ],
   "source": [
    "plt.plot(df310.time[start:stop], df310.speed[start:stop], label='response')\n",
    "plt.plot(df310.time[start:stop], df310.sp_v[start:stop], label='setpoint')\n",
    "plt.xlabel('Waktu $(s)$')\n",
    "plt.ylabel('Speed $(m/s)$')\n",
    "plt.legend()\n",
    "plt.title('Cost-function 3 | lambda 10')\n",
    "plt.savefig('img/1cf_310.png', dpi=600, transparent=True)\n",
    "plt.show()"
   ]
  },
  {
   "cell_type": "code",
   "execution_count": 22,
   "metadata": {},
   "outputs": [
    {
     "data": {
      "image/png": "[encoded data removed]",
      "text/plain": [
       "<Figure size 252x189 with 1 Axes>"
      ]
     },
     "metadata": {
      "needs_background": "light"
     },
     "output_type": "display_data"
    }
   ],
   "source": [
    "plt.plot(df110.time[start:stop], df110.speed[start:stop], label='response')\n",
    "plt.plot(df110.time[start:stop], df110.sp_v[start:stop], label='setpoint')\n",
    "plt.xlabel('Waktu $(s)$')\n",
    "plt.ylabel('Speed $(m/s)$')\n",
    "plt.legend()\n",
    "plt.title('Cost-function 1 | lambda 10')\n",
    "plt.savefig('img/1cf_110.png', dpi=600, transparent=True)\n",
    "plt.show()"
   ]
  },
  {
   "cell_type": "markdown",
   "metadata": {},
   "source": [
    "## Plot Comparison 2"
   ]
  },
  {
   "cell_type": "code",
   "execution_count": 23,
   "metadata": {},
   "outputs": [
    {
     "data": {
      "image/png": "[encoded data removed]",
      "text/plain": [
       "<Figure size 252x189 with 1 Axes>"
      ]
     },
     "metadata": {
      "needs_background": "light"
     },
     "output_type": "display_data"
    }
   ],
   "source": [
    "start = 0\n",
    "stop = 250\n",
    "plt.plot(df220.time[start:stop], df220.speed[start:stop], label='response')\n",
    "plt.plot(df220.time[start:stop], df220.sp_v[start:stop], label='setpoint')\n",
    "plt.xlabel('Waktu $(s)$')\n",
    "plt.ylabel('Speed $(m/s)$')\n",
    "plt.legend()\n",
    "plt.title('Cost-function 2 | lambda 20')\n",
    "plt.savefig('img/2cf_220.png', dpi=600, transparent=True)\n",
    "plt.show()"
   ]
  },
  {
   "cell_type": "code",
   "execution_count": 24,
   "metadata": {},
   "outputs": [
    {
     "data": {
      "image/png": "[encoded data removed]",
      "text/plain": [
       "<Figure size 252x189 with 1 Axes>"
      ]
     },
     "metadata": {
      "needs_background": "light"
     },
     "output_type": "display_data"
    }
   ],
   "source": [
    "plt.plot(df310.time[start:stop], df310.speed[start:stop], label='response')\n",
    "plt.plot(df310.time[start:stop], df310.sp_v[start:stop], label='setpoint')\n",
    "plt.xlabel('Waktu $(s)$')\n",
    "plt.ylabel('Speed $(m/s)$')\n",
    "plt.legend()\n",
    "plt.title('Cost-function 3 | lambda 10')\n",
    "plt.savefig('img/2cf_310.png', dpi=600, transparent=True)\n",
    "plt.show()"
   ]
  },
  {
   "cell_type": "code",
   "execution_count": 25,
   "metadata": {},
   "outputs": [
    {
     "data": {
      "image/png": "[encoded data removed]",
      "text/plain": [
       "<Figure size 252x189 with 1 Axes>"
      ]
     },
     "metadata": {
      "needs_background": "light"
     },
     "output_type": "display_data"
    }
   ],
   "source": [
    "plt.plot(df110.time[start:stop], df110.speed[start:stop], label='response')\n",
    "plt.plot(df110.time[start:stop], df110.sp_v[start:stop], label='setpoint')\n",
    "plt.xlabel('Waktu $(s)$')\n",
    "plt.ylabel('Speed $(m/s)$')\n",
    "plt.legend()\n",
    "plt.title('Cost-function 1 | lambda 10')\n",
    "plt.savefig('img/2cf_110.png', dpi=600, transparent=True)\n",
    "plt.show()"
   ]
  },
  {
   "cell_type": "markdown",
   "metadata": {},
   "source": [
    "## Analysis if Using a Filter"
   ]
  },
  {
   "cell_type": "code",
   "execution_count": 26,
   "metadata": {},
   "outputs": [],
   "source": [
    "wc = 2.*np.pi*5.\n",
    "\n",
    "throttle_filtered = np.zeros_like(df110.throttle.values)\n",
    "for i in range(1, throttle_filtered.shape[0]):\n",
    "    throttle_filtered[i] = (throttle_filtered[i-1] + wc*0.02*df110.throttle.values[i])/(1 + wc*0.02)"
   ]
  },
  {
   "cell_type": "code",
   "execution_count": 27,
   "metadata": {},
   "outputs": [
    {
     "data": {
      "text/plain": [
       "(0.2, 0.5)"
      ]
     },
     "execution_count": 27,
     "metadata": {},
     "output_type": "execute_result"
    },
    {
     "data": {
      "image/png": "[encoded data removed]",
      "text/plain": [
       "<Figure size 252x189 with 1 Axes>"
      ]
     },
     "metadata": {
      "needs_background": "light"
     },
     "output_type": "display_data"
    }
   ],
   "source": [
    "# plt.plot(df110.time[:200], df110.throttle[:200])\n",
    "plt.plot(df110.time[:200], throttle_filtered[:200])\n",
    "plt.plot(df310.time[:200], df310.throttle[:200])\n",
    "plt.ylim(0.2, 0.5)"
   ]
  },
  {
   "cell_type": "code",
   "execution_count": 28,
   "metadata": {},
   "outputs": [
    {
     "data": {
      "text/plain": [
       "[<matplotlib.lines.Line2D at 0x7f2c30dce210>]"
      ]
     },
     "execution_count": 28,
     "metadata": {},
     "output_type": "execute_result"
    },
    {
     "data": {
      "image/png": "[encoded data removed]",
      "text/plain": [
       "<Figure size 252x189 with 1 Axes>"
      ]
     },
     "metadata": {
      "needs_background": "light"
     },
     "output_type": "display_data"
    }
   ],
   "source": [
    "plt.plot(df110.throttle[:200])\n",
    "plt.plot(df220.throttle[:200])\n",
    "plt.plot(df310.throttle[:200])\n",
    "plt.plot(throttle_filtered[:200])"
   ]
  },
  {
   "cell_type": "code",
   "execution_count": 30,
   "metadata": {},
   "outputs": [
    {
     "data": {
      "text/plain": [
       "[<matplotlib.lines.Line2D at 0x7f2c30d75fd0>]"
      ]
     },
     "execution_count": 30,
     "metadata": {},
     "output_type": "execute_result"
    },
    {
     "data": {
      "image/png": "[encoded data removed]",
      "text/plain": [
       "<Figure size 252x189 with 1 Axes>"
      ]
     },
     "metadata": {
      "needs_background": "light"
     },
     "output_type": "display_data"
    }
   ],
   "source": [
    "start = 0\n",
    "stop = 100\n",
    "plt.plot(df110.time[start:stop], df110.throttle[start:stop])\n",
    "plt.plot(df110.time[start:stop], throttle_filtered[start:stop])"
   ]
  },
  {
   "cell_type": "code",
   "execution_count": null,
   "metadata": {},
   "outputs": [],
   "source": []
  }
 ],
 "metadata": {
  "kernelspec": {
   "display_name": "Python 3",
   "language": "python",
   "name": "python3"
  },
  "language_info": {
   "codemirror_mode": {
    "name": "ipython",
    "version": 3
   },
   "file_extension": ".py",
   "mimetype": "text/x-python",
   "name": "python",
   "nbconvert_exporter": "python",
   "pygments_lexer": "ipython3",
   "version": "3.7.9"
  },
  "toc-autonumbering": true
 },
 "nbformat": 4,
 "nbformat_minor": 4
}
