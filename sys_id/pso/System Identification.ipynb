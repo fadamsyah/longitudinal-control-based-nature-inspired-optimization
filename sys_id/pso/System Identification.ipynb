{
 "cells": [
  {
   "cell_type": "code",
   "execution_count": null,
   "metadata": {
    "ExecuteTime": {
     "end_time": "2020-05-04T16:45:17.351160Z",
     "start_time": "2020-05-04T16:45:15.171974Z"
    }
   },
   "outputs": [],
   "source": [
    "import numpy as np\n",
    "import numba as nb\n",
    "import math\n",
    "import matplotlib.pyplot as plt\n",
    "import pandas as pd\n",
    "import time\n",
    "from numba import njit, prange\n",
    "from os import listdir\n",
    "from os.path import isfile, join\n",
    "\n",
    "%matplotlib inline\n",
    "plt.style.use(['science','ieee']) # Ini kudu install install dulu"
   ]
  },
  {
   "cell_type": "markdown",
   "metadata": {},
   "source": [
    "# IMPORT THE TRAINING DATA"
   ]
  },
  {
   "cell_type": "code",
   "execution_count": null,
   "metadata": {},
   "outputs": [],
   "source": [
    "for i in range(0,24):\n",
    "    if i < 12:\n",
    "        df = pd.read_csv('../data/training_data/' + str(i) + '.csv')\n",
    "    else:\n",
    "        df = pd.read_csv('../data/training_data/s' + str(i-12) + '.csv')\n",
    "    throttle = df.throttle\n",
    "    brake = df.brake\n",
    "    exec(\"t{} = np.array(df.t).astype('float64')\".format(i))\n",
    "    exec(\"u{} = np.array([throttle, brake]).T.astype('float64')\".format(i))\n",
    "    exec(\"v{} = np.array(df.v).astype('float64')\".format(i))"
   ]
  },
  {
   "cell_type": "markdown",
   "metadata": {},
   "source": [
    "# MAKE FUNCTION"
   ]
  },
  {
   "cell_type": "markdown",
   "metadata": {
    "heading_collapsed": true
   },
   "source": [
    "## Generate population"
   ]
  },
  {
   "cell_type": "code",
   "execution_count": null,
   "metadata": {
    "ExecuteTime": {
     "end_time": "2020-05-04T16:45:17.731486Z",
     "start_time": "2020-05-04T16:45:17.710275Z"
    },
    "hidden": true
   },
   "outputs": [],
   "source": [
    "def generate_population(num, dim, rng):\n",
    "    \"\"\"\n",
    "    Generate population:\n",
    "        Input:\n",
    "            num: number of population (integer)\n",
    "            dim: number of parameters (integer)\n",
    "            rng: range number used in initialization (list or numpy array)\n",
    "        Output:\n",
    "            pop: initial position of the population (numpy array)\n",
    "    \"\"\"\n",
    "    pop = np.zeros((num,dim))\n",
    "    for i in range(dim):\n",
    "        lim = rng[i]\n",
    "        pop[:, i] = np.random.uniform(lim[0], lim[1], size=num)\n",
    "    return pop"
   ]
  },
  {
   "cell_type": "markdown",
   "metadata": {
    "heading_collapsed": true
   },
   "source": [
    "## Constraint"
   ]
  },
  {
   "cell_type": "code",
   "execution_count": null,
   "metadata": {
    "ExecuteTime": {
     "end_time": "2020-05-04T16:45:17.766484Z",
     "start_time": "2020-05-04T16:45:17.740671Z"
    },
    "hidden": true
   },
   "outputs": [],
   "source": [
    "ndim = 17\n",
    "@njit\n",
    "def admissible(param):\n",
    "    a1, a2, a3, b1, b2, b3, b4, c1, c2, c3, c4, td11, td12, td13, td21, td22, td23 = param\n",
    "    if a1 > 0. or a2 > 0. or a3 > 0. or b1 < 0. or b2 < 0. or c1 > 0. or c2 > 0. or np.around(td11)<0 or np.around(td12)<0 or np.around(td13)<0 or np.around(td21)<0 or np.around(td22)<0 or np.around(td23)<0:\n",
    "        return False\n",
    "    else:\n",
    "        return True\n",
    "    \n",
    "_ = admissible(np.random.randn(ndim))"
   ]
  },
  {
   "cell_type": "markdown",
   "metadata": {
    "heading_collapsed": true
   },
   "source": [
    "## Forward propagation"
   ]
  },
  {
   "cell_type": "code",
   "execution_count": null,
   "metadata": {},
   "outputs": [],
   "source": [
    "@njit\n",
    "def delayed_control_signal(i, u, u_list, td):\n",
    "    if i < td:\n",
    "        ut = 0.0\n",
    "    else:\n",
    "        if td == 0:\n",
    "            ut = u\n",
    "        else:\n",
    "            ut = u_list[i-td]\n",
    "    return ut\n",
    "_ = delayed_control_signal(1, 0.1, np.array([0.1, 0.2]), 0)"
   ]
  },
  {
   "cell_type": "code",
   "execution_count": null,
   "metadata": {
    "ExecuteTime": {
     "end_time": "2020-05-04T16:45:17.832798Z",
     "start_time": "2020-05-04T16:45:17.775312Z"
    },
    "hidden": true
   },
   "outputs": [],
   "source": [
    "@njit\n",
    "def forward_propagation(t, u, param):\n",
    "    a1, a2, a3, b1, b2, b3, b4, c1, c2, c3, c4, td11, td12, td13, td21, td22, td23 = param\n",
    "    td11 = int(np.around(td11))\n",
    "    td12 = int(np.around(td12))\n",
    "    td13 = int(np.around(td13))\n",
    "    td21 = int(np.around(td21))\n",
    "    td22 = int(np.around(td22))\n",
    "    td23 = int(np.around(td23))\n",
    "\n",
    "    u1_list = np.empty(t.shape)\n",
    "    u2_list = np.empty(t.shape)\n",
    "    out = np.empty(t.shape)\n",
    "    y = 0.0\n",
    "    for i in range(t.shape[0]):\n",
    "        if i == 0:\n",
    "            dt = t[1] - t[0]\n",
    "        else:\n",
    "            dt = t[i] - t[i-1]\n",
    "            \n",
    "        u1, u2 = u[i]        \n",
    "        u11t = delayed_control_signal(i, u1, u1_list, td11)\n",
    "        u12t = delayed_control_signal(i, u1, u1_list, td12)\n",
    "        u13t = delayed_control_signal(i, u1, u1_list, td13)\n",
    "        u21t = delayed_control_signal(i, u2, u2_list, td21)\n",
    "        u22t = delayed_control_signal(i, u2, u2_list, td22)\n",
    "        u23t = delayed_control_signal(i, u2, u2_list, td23)\n",
    "        \n",
    "        temp = 0.\n",
    "        if y != 0.:\n",
    "            temp = a1\n",
    "                    \n",
    "        y_dot = temp + a2 * y + a3 * y**2 \\\n",
    "                + b1 * u11t + b2 * np.exp(b3 * y + b4 * u12t) * u13t \\\n",
    "                + c1 * u21t + c2 * np.exp(c3 * y + c4 * u22t) * u23t\n",
    "        \n",
    "        y += y_dot * dt\n",
    "        if y < 0.0:\n",
    "            y = 0.0\n",
    "\n",
    "        u1_list[i] = u1\n",
    "        u2_list[i] = u2\n",
    "        out[i] = y\n",
    "\n",
    "    return out\n",
    "_ = forward_propagation(np.arange(10, dtype=float), np.random.randn(10,2), np.ones(ndim))"
   ]
  },
  {
   "cell_type": "markdown",
   "metadata": {
    "heading_collapsed": true
   },
   "source": [
    "## Cost and metric"
   ]
  },
  {
   "cell_type": "code",
   "execution_count": null,
   "metadata": {
    "ExecuteTime": {
     "end_time": "2020-05-04T16:45:17.859420Z",
     "start_time": "2020-05-04T16:45:17.841064Z"
    },
    "hidden": true
   },
   "outputs": [],
   "source": [
    "@njit\n",
    "def cost(t, u, v, param):\n",
    "    error = (v - forward_propagation(t, u, param))\n",
    "    cost = np.dot(error.T, error)\n",
    "    return cost\n",
    "_ = cost(np.arange(10, dtype=float), np.random.randn(10,2), np.random.randn(10), np.ones(ndim))\n",
    "\n",
    "@njit\n",
    "def accuracy(t, u, v, param):\n",
    "    error = v - forward_propagation(t, u, param)\n",
    "    numerator = np.linalg.norm(error)\n",
    "    denumerator = np.linalg.norm(v - np.mean(v))\n",
    "    acc = 1.0 - numerator / denumerator\n",
    "    return acc\n",
    "_ = accuracy(np.arange(10, dtype=float), np.random.randn(10,2), np.random.randn(10), np.ones(ndim))\n",
    "\n",
    "@njit\n",
    "def mean_absolute_error(t, u, v, param):\n",
    "    error = v - forward_propagation(t, u, param)\n",
    "    out = np.mean(np.abs(error))\n",
    "    return out\n",
    "_ = mean_absolute_error(np.arange(10, dtype=float), np.random.randn(10,2), np.random.randn(10), np.ones(ndim))\n",
    "\n",
    "@njit\n",
    "def mean_squared_error(t, u, v, param):\n",
    "    error = v - forward_propagation(t, u, param)\n",
    "    out = np.mean(error**2)\n",
    "    return out\n",
    "_ = mean_squared_error(np.arange(10, dtype=float), np.random.randn(10,2), np.random.randn(10), np.ones(ndim))\n",
    "\n",
    "@njit\n",
    "def maximum_absolute_error(t, u, v, param):\n",
    "    error = v - forward_propagation(t, u, param)\n",
    "    out = np.max(np.abs(error))\n",
    "    return out\n",
    "_ = maximum_absolute_error(np.arange(10, dtype=float), np.random.randn(10,2), np.random.randn(10), np.ones(ndim))"
   ]
  },
  {
   "cell_type": "code",
   "execution_count": null,
   "metadata": {},
   "outputs": [],
   "source": [
    "for i in range(0,24):\n",
    "    if i < 12:\n",
    "        df = pd.read_csv('../data/training_data/' + str(i) + '.csv')\n",
    "    else:\n",
    "        df = pd.read_csv('../data/training_data/s' + str(i-12) + '.csv')\n",
    "    throttle = df.throttle\n",
    "    brake = df.brake\n",
    "    exec(\"t{} = np.array(df.t).astype('float64')\".format(i))\n",
    "    exec(\"u{} = np.array([throttle, brake]).T.astype('float64')\".format(i))\n",
    "    exec(\"v{} = np.array(df.v).astype('float64')\".format(i))"
   ]
  },
  {
   "cell_type": "code",
   "execution_count": null,
   "metadata": {
    "ExecuteTime": {
     "end_time": "2020-05-04T16:45:17.886157Z",
     "start_time": "2020-05-04T16:45:17.864197Z"
    },
    "hidden": true
   },
   "outputs": [],
   "source": [
    "gain = np.array([1.0, 1.0, 1.0,\n",
    "                 1.0, 1.0, 1.0,\n",
    "                 1.0, 1.0, 1.0,\n",
    "                 1.0, 1.0, 1.0,\n",
    "                 1.0, 1.0, 1.0,\n",
    "                 1.0, 1.0, 1.0,\n",
    "                 1.0, 1.0, 1.0,\n",
    "                 1.0, 1.0, 1.0])\n",
    "\n",
    "@njit\n",
    "def calculate_total_cost(param):\n",
    "    loss = np.Inf\n",
    "    if admissible(param):\n",
    "        loss = 0.\n",
    "        m = 0.\n",
    "        \n",
    "        loss += cost(t0, u0, v0, param) * gain[0]\n",
    "        loss += cost(t1, u1, v1, param) * gain[1]\n",
    "        loss += cost(t2, u2, v2, param) * gain[2]\n",
    "        loss += cost(t3, u3, v3, param) * gain[3]\n",
    "        loss += cost(t4, u4, v4, param) * gain[4]\n",
    "        loss += cost(t5, u5, v5, param) * gain[5]\n",
    "        loss += cost(t6, u6, v6, param) * gain[6]\n",
    "        loss += cost(t7, u7, v7, param) * gain[7]\n",
    "        loss += cost(t8, u8, v8, param) * gain[8]\n",
    "        loss += cost(t9, u9, v9, param) * gain[9]\n",
    "        loss += cost(t10, u10, v10, param) * gain[10]\n",
    "        loss += cost(t11, u11, v11, param) * gain[11]\n",
    "        loss += cost(t12, u12, v12, param) * gain[12]\n",
    "        loss += cost(t13, u13, v13, param) * gain[13]\n",
    "        loss += cost(t14, u14, v14, param) * gain[14]\n",
    "        loss += cost(t15, u15, v15, param) * gain[15]\n",
    "        loss += cost(t16, u16, v16, param) * gain[16]\n",
    "        loss += cost(t17, u17, v17, param) * gain[17]\n",
    "        loss += cost(t18, u18, v18, param) * gain[18]\n",
    "        loss += cost(t19, u19, v19, param) * gain[19]\n",
    "        loss += cost(t20, u20, v20, param) * gain[20]\n",
    "        loss += cost(t21, u21, v21, param) * gain[21]\n",
    "        loss += cost(t22, u22, v22, param) * gain[22]\n",
    "        loss += cost(t23, u23, v23, param) * gain[23]\n",
    "\n",
    "        m += t0.shape[0] * gain[0]\n",
    "        m += t1.shape[0] * gain[1]\n",
    "        m += t2.shape[0] * gain[2]\n",
    "        m += t3.shape[0] * gain[3]\n",
    "        m += t4.shape[0] * gain[4]\n",
    "        m += t5.shape[0] * gain[5]\n",
    "        m += t6.shape[0] * gain[6]\n",
    "        m += t7.shape[0] * gain[7]\n",
    "        m += t8.shape[0] * gain[8]\n",
    "        m += t9.shape[0] * gain[9]\n",
    "        m += t10.shape[0] * gain[10]\n",
    "        m += t11.shape[0] * gain[11]\n",
    "        m += t12.shape[0] * gain[12]\n",
    "        m += t13.shape[0] * gain[13]\n",
    "        m += t14.shape[0] * gain[14]\n",
    "        m += t15.shape[0] * gain[15]\n",
    "        m += t16.shape[0] * gain[16]\n",
    "        m += t17.shape[0] * gain[17]\n",
    "        m += t18.shape[0] * gain[18]\n",
    "        m += t19.shape[0] * gain[19]\n",
    "        m += t20.shape[0] * gain[20]\n",
    "        m += t21.shape[0] * gain[21]\n",
    "        m += t22.shape[0] * gain[22]\n",
    "        m += t23.shape[0] * gain[23]\n",
    "\n",
    "        loss = loss / m\n",
    "        \n",
    "    return loss\n",
    "_ = calculate_total_cost(np.ones(ndim))"
   ]
  },
  {
   "cell_type": "code",
   "execution_count": null,
   "metadata": {
    "ExecuteTime": {
     "end_time": "2020-05-04T16:45:17.899448Z",
     "start_time": "2020-05-04T16:45:17.891718Z"
    },
    "hidden": true
   },
   "outputs": [],
   "source": [
    "@njit#(parallel=True)\n",
    "def population_cost(population):\n",
    "    length = population.shape[0]\n",
    "    losses = np.empty(length)\n",
    "    #for ii in prange(length):\n",
    "    for ii in range(length):\n",
    "        losses[ii] = calculate_total_cost(population[ii])\n",
    "    return losses\n",
    "_ = population_cost(np.ones((2,ndim)))"
   ]
  },
  {
   "cell_type": "markdown",
   "metadata": {
    "tags": []
   },
   "source": [
    "## PSO"
   ]
  },
  {
   "cell_type": "code",
   "execution_count": null,
   "metadata": {
    "ExecuteTime": {
     "end_time": "2020-05-04T16:45:17.940004Z",
     "start_time": "2020-05-04T16:45:17.904420Z"
    },
    "hidden": true
   },
   "outputs": [],
   "source": [
    "@njit\n",
    "def pso(population, pop_velocity, global_, global_loss, best_pos_local,\n",
    "        best_local_loss, w_max, w_min, c1, c2, iteration, max_iter):\n",
    "    num = population.shape[0]\n",
    "    dim = population.shape[1]\n",
    "    \n",
    "    # Initial conditions\n",
    "    ppos_vector = np.copy(population)\n",
    "    pvel_vector = np.copy(pop_velocity)\n",
    "    gbest_pos = np.copy(global_)\n",
    "    gfit_value = global_loss + 0.0 # to avoid shallow copy\n",
    "    pbest_pos = np.copy(best_pos_local)\n",
    "    pfit_value = np.copy(best_local_loss)\n",
    "\n",
    "    # Additional variables for catching the next global best\n",
    "    next_gbest_pos = np.copy(gbest_pos)\n",
    "    next_gfit_value = gfit_value + 0.0 # to avoid shallow copy\n",
    "    \n",
    "    # Calculate w based on w_max, w_min, current number of iteration,\n",
    "    # and the maximum iteration\n",
    "    w = w_max - (w_max - w_min) * iteration / max_iter\n",
    "    \n",
    "    for i in range(num):        \n",
    "        # Get random numbers for r1 and r2\n",
    "        r1 = np.random.uniform(0., 1.)\n",
    "        r2 = np.random.uniform(0., 1.)\n",
    "        \n",
    "        # Update the velocity and position vector\n",
    "        d1 = pbest_pos[i] - ppos_vector[i]\n",
    "        d2 = gbest_pos - ppos_vector[i]\n",
    "        pvel_vector[i] = w*pvel_vector[i] + c1*r1*d1+ c2*r2*d2\n",
    "        ppos_vector[i] = pvel_vector[i] + ppos_vector[i]\n",
    "        \n",
    "        # Calculate the cost function or fit value\n",
    "        cost_func = calculate_total_cost(ppos_vector[i])\n",
    "        \n",
    "        # Update the next local best for i-th particle if applicable\n",
    "        if(pfit_value[i] > cost_func):\n",
    "            pfit_value[i] = cost_func + 0.0 # to avoid shallow copy\n",
    "            pbest_pos[i] = np.copy(ppos_vector[i])\n",
    "                \n",
    "        # Update the next global best if applicable\n",
    "        if(next_gfit_value > cost_func):\n",
    "            next_gfit_value = cost_func  + 0.0 # to avoid shallow copy\n",
    "            next_gbest_pos = np.copy(ppos_vector[i])\n",
    "        \n",
    "    return ppos_vector, pvel_vector, pbest_pos, pfit_value, next_gbest_pos, next_gfit_value\n",
    "\n",
    "xx1 = np.ones((2, ndim))\n",
    "xx2 = np.ones(2)\n",
    "xx3 = np.random.randn(ndim)\n",
    "_ = pso(xx1, xx1, xx3, 100.0, xx1*0.5, xx2, 0.9, 0.4, 0.7, 0.8, 0, 20)"
   ]
  },
  {
   "cell_type": "markdown",
   "metadata": {},
   "source": [
    "# SIMULATION (OPTIMIZATION)"
   ]
  },
  {
   "cell_type": "code",
   "execution_count": null,
   "metadata": {
    "ExecuteTime": {
     "end_time": "2020-05-04T16:45:17.982152Z",
     "start_time": "2020-05-04T16:45:17.944360Z"
    }
   },
   "outputs": [],
   "source": [
    "num = 50\n",
    "n_sim = 20\n",
    "n_itr = 10000\n",
    "\n",
    "r_a1 = [0., -2.]\n",
    "r_a2 = [0., -2.]\n",
    "r_a3 = [0., -2.]\n",
    "r_b1 = [0., 2.]\n",
    "r_b2 = [0., 2.]\n",
    "r_b3 = [-2., 2.]\n",
    "r_b4 = [-2., 2.]\n",
    "r_c1 = [0., -2.]\n",
    "r_c2 = [0., -2.]\n",
    "r_c3 = [-2., 2.]\n",
    "r_c4 = [-2., 2.]\n",
    "r_td11 = [0, 15]\n",
    "r_td12 = [0, 15]\n",
    "r_td13 = [0, 15]\n",
    "r_td21 = [0, 6]\n",
    "r_td22 = [0, 6]\n",
    "r_td23 = [0, 6]\n",
    "rng = [r_a1, r_a2, r_a3,\n",
    "       r_b1, r_b2, r_b3, r_b4,\n",
    "       r_c1, r_c2, r_c3, r_c4,\n",
    "       r_td11, r_td12, r_td13,\n",
    "       r_td21, r_td22, r_td23\n",
    "      ]\n",
    "dim = len(rng)\n",
    "\n",
    "w_max = 0.9\n",
    "w_min = 0.4\n",
    "c1 = 0.7\n",
    "c2 = 0.8"
   ]
  },
  {
   "cell_type": "code",
   "execution_count": null,
   "metadata": {},
   "outputs": [],
   "source": [
    "param_history = np.zeros((n_sim, dim))\n",
    "loss_history = np.ones(n_sim)*np.Inf\n",
    "\n",
    "the_best_param_history = np.zeros((n_itr, dim))\n",
    "the_best_loss_history = np.zeros(n_itr)\n",
    "\n",
    "for j in range(n_sim):\n",
    "    population = generate_population(num, dim, rng)\n",
    "    rng_vel = [[-max([abs(rng[i][0]), abs(rng[i][1])]), max([abs(rng[i][0]), abs(rng[i][1])])] for i in range(len(rng))]\n",
    "    pop_velocity = generate_population(num, dim, rng_vel)\n",
    "    global_ = None\n",
    "    global_loss_ = np.Inf\n",
    "    local_best_pos = np.copy(population)\n",
    "    \n",
    "    loss_population = population_cost(population)\n",
    "    loss_population[np.isnan(loss_population)] = np.Inf\n",
    "    min_idx = np.argmin(loss_population)\n",
    "    min_loss = loss_population[min_idx]\n",
    "    if global_loss_ > min_loss:\n",
    "        global_loss_ = min_loss\n",
    "        global_ = np.copy(population[min_idx, :])\n",
    "        \n",
    "    global_history = np.empty((n_itr, dim))\n",
    "    global_history[0] = global_\n",
    "    global_loss_history = np.empty(n_itr)\n",
    "    global_loss_history[0] = global_loss_\n",
    "    for i in range(1, n_itr):\n",
    "        # Particle Swarm Optimization\n",
    "        population, pop_velocity, local_best_pos, loss_population, global_, global_loss_ = pso(\n",
    "            population, pop_velocity, global_, global_loss_, local_best_pos, loss_population,\n",
    "            w_max, w_min, c1, c2, i, n_itr\n",
    "        )\n",
    "        \n",
    "        global_history[i] = global_\n",
    "        global_loss_history[i] = global_loss_\n",
    "    \n",
    "    if np.min(loss_history) > global_loss_history[-1]:\n",
    "        the_best_loss_history = np.copy(global_loss_history)\n",
    "        the_best_param_history = np.copy(global_history)\n",
    "        \n",
    "    param_history[j] = np.copy(global_history[-1])\n",
    "    loss_history[j] = np.copy(global_loss_history[-1])\n",
    "    \n",
    "    print('simulation: {} || global loss: {:.10f} || the best loss: {:.10f}'.format(j, global_loss_history[-1], the_best_loss_history[-1]))"
   ]
  },
  {
   "cell_type": "code",
   "execution_count": null,
   "metadata": {},
   "outputs": [],
   "source": [
    "# Save the simulation\n",
    "np.save('result/param_history.npy', param_history)\n",
    "np.save('result/loss_history.npy', loss_history)\n",
    "np.save('result/the_best_loss_history.npy', the_best_loss_history)\n",
    "np.save('result/the_best_param_history.npy', the_best_param_history)"
   ]
  },
  {
   "cell_type": "code",
   "execution_count": null,
   "metadata": {},
   "outputs": [],
   "source": [
    "f = open(\"result/sim.cfg\", \"w+\")\n",
    "f.writelines('num: {} # The number of particles\\n'.format(num))\n",
    "f.writelines('n_sim: {} # The number of simulation loop\\n'.format(n_sim))\n",
    "f.writelines('n_itr: {} # The number of iteration for each simulation\\n'.format(n_itr))\n",
    "f.writelines('\\n# The boundary of the initialization value\\n')\n",
    "f.writelines('\\tr_a1: {}\\n'.format(r_a1))\n",
    "f.writelines('\\tr_a2: {}\\n'.format(r_a2))\n",
    "f.writelines('\\tr_a3: {}\\n'.format(r_a3))\n",
    "f.writelines('\\tr_b1: {}\\n'.format(r_b1))\n",
    "f.writelines('\\tr_b2: {}\\n'.format(r_b2))\n",
    "f.writelines('\\tr_b3: {}\\n'.format(r_b3))\n",
    "f.writelines('\\tr_b4: {}\\n'.format(r_b4))\n",
    "f.writelines('\\tr_c1: {}\\n'.format(r_c1))\n",
    "f.writelines('\\tr_c2: {}\\n'.format(r_c2))\n",
    "f.writelines('\\tr_c3: {}\\n'.format(r_c3))\n",
    "f.writelines('\\tr_c4: {}\\n'.format(r_c4))\n",
    "f.writelines('\\tr_td11: {}\\n'.format(r_td11))\n",
    "f.writelines('\\tr_td12: {}\\n'.format(r_td12))\n",
    "f.writelines('\\tr_td13: {}\\n'.format(r_td13))\n",
    "f.writelines('\\tr_td21: {}\\n'.format(r_td21))\n",
    "f.writelines('\\tr_td22: {}\\n'.format(r_td22))\n",
    "f.writelines('\\tr_td23: {}\\n'.format(r_td23))\n",
    "f.writelines('\\n# The gain of the dataset\\n')\n",
    "for i in range(gain.shape[0]):\n",
    "    f.writelines('\\tdata-{}: {}\\n'.format(i, gain[i]))\n",
    "f.writelines('\\n# The PSO hyperparameters\\n')\n",
    "f.writelines('w: {}\\n'.format(w))\n",
    "f.writelines('c1: {}\\n'.format(c1))\n",
    "f.writelines('c2: {}\\n'.format(c2))\n",
    "f.close()"
   ]
  },
  {
   "cell_type": "markdown",
   "metadata": {},
   "source": [
    "# RESULT"
   ]
  },
  {
   "cell_type": "markdown",
   "metadata": {},
   "source": [
    "## Load Model"
   ]
  },
  {
   "cell_type": "code",
   "execution_count": null,
   "metadata": {},
   "outputs": [],
   "source": [
    "# Load the model\n",
    "the_best_param_history = np.load('result/the_best_param_history.npy')\n",
    "the_best_loss_history = np.load('result/the_best_loss_history.npy')\n",
    "global_ = the_best_param_history[-1]\n",
    "global_loss_ = the_best_loss_history[-1]"
   ]
  },
  {
   "cell_type": "code",
   "execution_count": null,
   "metadata": {},
   "outputs": [],
   "source": [
    "param_name = ['a1', 'a2', 'a3', 'b1', 'b2', 'b3', 'b4', 'c1', 'c2', 'c3', 'c4', 'd11', 'd12', 'd13', 'd21', 'd22', 'd23']\n",
    "print('The minimum loss: {}'.format(global_loss_))\n",
    "print('Parameters:')\n",
    "for i in range(len(param_name)):\n",
    "    print('{}: {}'.format(param_name[i], global_[i]))"
   ]
  },
  {
   "cell_type": "markdown",
   "metadata": {},
   "source": [
    "## Visualization"
   ]
  },
  {
   "cell_type": "code",
   "execution_count": null,
   "metadata": {},
   "outputs": [],
   "source": [
    "# Visualization\n",
    "idx = 12\n",
    "exec(\"t = np.copy(t{})\".format(idx))\n",
    "exec(\"u = np.copy(u{})\".format(idx))\n",
    "exec(\"v = np.copy(v{})\".format(idx))\n",
    "test = forward_propagation(t, u, global_)\n",
    "plt.plot(t, v, label='ground-truth')\n",
    "plt.plot(t, test, label='prediction')\n",
    "plt.legend()\n",
    "plt.show()"
   ]
  },
  {
   "cell_type": "markdown",
   "metadata": {},
   "source": [
    "## Cost and Metrics"
   ]
  },
  {
   "cell_type": "code",
   "execution_count": null,
   "metadata": {},
   "outputs": [],
   "source": [
    "acc = []\n",
    "mse = []\n",
    "maae = [] \n",
    "for i in range(24):\n",
    "    exec(\"acc.append(accuracy(t{}, u{}, v{}, global_))\".format(i, i, i))\n",
    "    exec(\"mse.append(mean_squared_error(t{}, u{}, v{}, global_))\".format(i, i, i))\n",
    "    exec(\"maae.append(maximum_absolute_error(t{}, u{}, v{}, global_))\".format(i, i, i))"
   ]
  },
  {
   "cell_type": "code",
   "execution_count": null,
   "metadata": {},
   "outputs": [],
   "source": [
    "print('Accuracy')\n",
    "for i in range(24):\n",
    "    print('Data ke-{}: {:.2f}%'.format(i+1, acc[i]*100))"
   ]
  },
  {
   "cell_type": "code",
   "execution_count": null,
   "metadata": {},
   "outputs": [],
   "source": [
    "print('Mean Squared Error')\n",
    "for i in range(24):\n",
    "    print('Data ke-{}: {:.5f}'.format(i+1, mse[i]))"
   ]
  },
  {
   "cell_type": "code",
   "execution_count": null,
   "metadata": {},
   "outputs": [],
   "source": [
    "print('Maximum Absolute Squared Error')\n",
    "for i in range(24):\n",
    "    print('Data ke-{}: {:.3f}'.format(i+1, maae[i]))"
   ]
  },
  {
   "cell_type": "code",
   "execution_count": null,
   "metadata": {},
   "outputs": [],
   "source": [
    "num = 0\n",
    "for i in range(24):\n",
    "    exec(\"num += t{}.shape[0]\".format(i))\n",
    "vv = np.empty(num)\n",
    "vv_gt = np.empty(num)\n",
    "nn = 0\n",
    "for i in range(24):\n",
    "    exec(\"n = t{}.shape[0]\".format(i))\n",
    "#     if nn == 0:\n",
    "#         exec(\"vv[:n] = forward_propagation(t{}, u{}, global_)\".format(i, i))\n",
    "#         exec(\"vv_gt[:n] = v{}\".format(i))\n",
    "#     else:\n",
    "#         exec(\"vv[nn: nn+n] = forward_propagation(t{}, u{}, global_)\".format(i, i))\n",
    "#         exec(\"vv_gt[nn:nn+n] = v{}\".format(i))\n",
    "    exec(\"vv[nn: nn+n] = forward_propagation(t{}, u{}, global_)\".format(i, i))\n",
    "    exec(\"vv_gt[nn: nn+n] = v{}\".format(i))\n",
    "    nn += n\n",
    "total_accuracy = (1 - np.linalg.norm(vv_gt - vv)/np.linalg.norm(vv_gt - np.mean(vv_gt)))\n",
    "print('Total Accuracy: {:.2f}%'.format(total_accuracy*100))"
   ]
  },
  {
   "cell_type": "markdown",
   "metadata": {},
   "source": [
    "# TEST MODEL"
   ]
  },
  {
   "cell_type": "code",
   "execution_count": null,
   "metadata": {},
   "outputs": [],
   "source": [
    "df = pd.read_csv('test_data.csv')\n",
    "throttle = df.throttle\n",
    "brake = df.brake\n",
    "t99 = np.array(df.time).astype('float64')\n",
    "u99 = np.array([throttle, brake]).T.astype('float64')\n",
    "v99 = np.array(df.speed).astype('float64')"
   ]
  },
  {
   "cell_type": "code",
   "execution_count": null,
   "metadata": {},
   "outputs": [],
   "source": [
    "vp = forward_propagation(t99, u99, global_)\n",
    "print('accuracy: {:.2f}%'.format(100*accuracy(t99, u99, v99, global_)))\n",
    "print('mean_squared_error: {:.5f}'.format(mean_squared_error(t99, u99, v99, global_)))\n",
    "print('max_absolute_error: {:.3f}'.format(maximum_absolute_error(t99, u99, v99, global_)))"
   ]
  },
  {
   "cell_type": "code",
   "execution_count": null,
   "metadata": {},
   "outputs": [],
   "source": [
    "plt.plot(t99, v99, label='Real Speed', linestyle='--', color='black', linewidth=2)\n",
    "plt.plot(t99, vp, label='Estimated', linewidth=1, color='red')\n",
    "plt.legend()\n",
    "plt.xlabel('Time (s)')\n",
    "plt.ylabel('Speed (m/s)')\n",
    "plt.title('Real Speed vs Estimated Speed')\n",
    "plt.savefig('results/real_estimated', dpi=600)\n",
    "plt.show()"
   ]
  },
  {
   "cell_type": "code",
   "execution_count": null,
   "metadata": {},
   "outputs": [],
   "source": [
    "plt.plot(t99, v99-vp, linewidth=2)\n",
    "plt.xlabel('Time (s)')\n",
    "plt.ylabel('Error (m/s)')\n",
    "plt.title('Estimation Error')\n",
    "plt.savefig('results/estimation_error', dpi=600)\n",
    "plt.show()"
   ]
  },
  {
   "cell_type": "code",
   "execution_count": null,
   "metadata": {},
   "outputs": [],
   "source": [
    "err = v99 - vp\n",
    "plt.hist(v99-vp, bins=int((np.max(err) - np.min(err))/0.01))\n",
    "plt.title('Histogram of Estimation Error')\n",
    "plt.xlabel('Error (m/s)')\n",
    "plt.ylabel('Frequency')\n",
    "plt.savefig('results/estimation_error_hist', dpi=600)\n",
    "plt.show()"
   ]
  },
  {
   "cell_type": "markdown",
   "metadata": {},
   "source": [
    "## Dari Data CARLA dengan PID"
   ]
  },
  {
   "cell_type": "code",
   "execution_count": null,
   "metadata": {},
   "outputs": [],
   "source": [
    "df = pd.read_csv('test_data_pid.csv')\n",
    "throttle = df.throttle\n",
    "brake = df.brake\n",
    "mt0 = np.array(df.time).astype('float64')\n",
    "mu0 = np.array([throttle, brake]).T.astype('float64')\n",
    "mv0 = np.array(df.speed).astype('float64')"
   ]
  },
  {
   "cell_type": "code",
   "execution_count": null,
   "metadata": {},
   "outputs": [],
   "source": [
    "global_ = global_history[-1]\n",
    "vp0 = forward_propagation(mt0, mu0, global_)\n",
    "print('accuracy: {:.2f}%'.format(100*accuracy(mt0, mu0, mv0, global_)))\n",
    "print('mean_squared_error: {:.5f}'.format(mean_squared_error(mt0, mu0, mv0, global_)))\n",
    "print('max_absolute_error: {:.3f}'.format(maximum_absolute_error(mt0, mu0, mv0, global_)))"
   ]
  },
  {
   "cell_type": "code",
   "execution_count": null,
   "metadata": {},
   "outputs": [],
   "source": [
    "plt.plot(mt0, mv0, label='Real Speed', linestyle='--', color='black', linewidth=2)\n",
    "plt.plot(mt0, vp0, label='Estimated', linewidth=1, color='red')\n",
    "plt.legend()\n",
    "plt.xlabel('Time (s)')\n",
    "plt.ylabel('Speed (m/s)')\n",
    "plt.title('Real Speed vs Estimated Speed')\n",
    "plt.savefig('results/real_estimated_II', dpi=600)\n",
    "plt.show()"
   ]
  },
  {
   "cell_type": "code",
   "execution_count": null,
   "metadata": {},
   "outputs": [],
   "source": [
    "plt.plot(mt0, mv0-vp0, linewidth=2)\n",
    "plt.xlabel('Time (s)')\n",
    "plt.ylabel('Error (m/s)')\n",
    "plt.title('Estimation Error')\n",
    "plt.savefig('results/estimation_error_II', dpi=600)\n",
    "plt.show()"
   ]
  },
  {
   "cell_type": "code",
   "execution_count": null,
   "metadata": {},
   "outputs": [],
   "source": [
    "err = mv0-vp0\n",
    "plt.hist(mv0-vp0, bins=int((np.max(err) - np.min(err))/0.01))\n",
    "plt.title('Histogram of Estimation Error')\n",
    "plt.xlabel('Error (m/s)')\n",
    "plt.ylabel('Frequency')\n",
    "plt.savefig('results/estimation_error_hist_II', dpi=600)\n",
    "plt.show()"
   ]
  },
  {
   "cell_type": "code",
   "execution_count": null,
   "metadata": {},
   "outputs": [],
   "source": []
  }
 ],
 "metadata": {
  "kernelspec": {
   "display_name": "Python 3",
   "language": "python",
   "name": "python3"
  },
  "language_info": {
   "codemirror_mode": {
    "name": "ipython",
    "version": 3
   },
   "file_extension": ".py",
   "mimetype": "text/x-python",
   "name": "python",
   "nbconvert_exporter": "python",
   "pygments_lexer": "ipython3",
   "version": "3.9.5"
  },
  "latex_envs": {
   "LaTeX_envs_menu_present": true,
   "autoclose": false,
   "autocomplete": true,
   "bibliofile": "biblio.bib",
   "cite_by": "apalike",
   "current_citInitial": 1,
   "eqLabelWithNumbers": true,
   "eqNumInitial": 1,
   "hotkeys": {
    "equation": "Ctrl-E",
    "itemize": "Ctrl-I"
   },
   "labels_anchors": false,
   "latex_user_defs": false,
   "report_style_numbering": false,
   "user_envs_cfg": false
  },
  "toc": {
   "base_numbering": 1,
   "nav_menu": {},
   "number_sections": true,
   "sideBar": true,
   "skip_h1_title": false,
   "title_cell": "Table of Contents",
   "title_sidebar": "Contents",
   "toc_cell": false,
   "toc_position": {},
   "toc_section_display": true,
   "toc_window_display": false
  },
  "toc-autonumbering": true
 },
 "nbformat": 4,
 "nbformat_minor": 4
}
