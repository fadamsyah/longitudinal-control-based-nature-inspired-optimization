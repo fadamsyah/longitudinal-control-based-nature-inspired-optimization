{
 "cells": [
  {
   "cell_type": "markdown",
   "metadata": {},
   "source": [
    "# IMPORT"
   ]
  },
  {
   "cell_type": "code",
   "execution_count": 1,
   "metadata": {},
   "outputs": [],
   "source": [
    "import numpy as np\n",
    "import numba as nb\n",
    "import matplotlib.pyplot as plt\n",
    "import pandas as pd\n",
    "from numba import njit, prange\n",
    "from os import listdir\n",
    "from os.path import isfile, join\n",
    "\n",
    "plt.style.use(['science', 'grid'])\n",
    "\n",
    "DPI = 500"
   ]
  },
  {
   "cell_type": "markdown",
   "metadata": {},
   "source": [
    "## Ground Truth"
   ]
  },
  {
   "cell_type": "code",
   "execution_count": 2,
   "metadata": {},
   "outputs": [],
   "source": [
    "# Training Data\n",
    "for i in range(0,24):\n",
    "    if i < 12:\n",
    "        df = pd.read_csv('../data/training_data/' + str(i) + '.csv')\n",
    "    else:\n",
    "        df = pd.read_csv('../data/training_data/s' + str(i-12) + '.csv')\n",
    "    throttle = df.throttle\n",
    "    brake = df.brake\n",
    "    exec(\"t{} = np.array(df.t).astype('float64')\".format(i))\n",
    "    exec(\"u{} = np.array([throttle, brake]).T.astype('float64')\".format(i))\n",
    "    exec(\"v{} = np.array(df.v).astype('float64')\".format(i))"
   ]
  },
  {
   "cell_type": "code",
   "execution_count": 3,
   "metadata": {},
   "outputs": [],
   "source": [
    "# Test Data\n",
    "df = pd.read_csv('../data/test_data/test.csv')\n",
    "throttle = df.throttle\n",
    "brake = df.brake\n",
    "tt = np.array(df.t).astype('float64')\n",
    "ut = np.array([throttle, brake]).T.astype('float64')\n",
    "vt = np.array(df.v).astype('float64')\n",
    "\n",
    "df = pd.read_csv('../data/test_data/test_pid.csv')\n",
    "throttle = df.throttle\n",
    "brake = df.brake\n",
    "ttp = np.array(df.t).astype('float64')\n",
    "utp = np.array([throttle, brake]).T.astype('float64')\n",
    "vtp = np.array(df.v).astype('float64')"
   ]
  },
  {
   "cell_type": "markdown",
   "metadata": {},
   "source": [
    "## Simulation Results"
   ]
  },
  {
   "cell_type": "code",
   "execution_count": 4,
   "metadata": {},
   "outputs": [
    {
     "name": "stdout",
     "output_type": "stream",
     "text": [
      "The minimum loss algorithm: fpa\n",
      "[-5.08357249e-02 -5.86008210e-01 -1.04600077e-15  3.38646851e-12\n",
      "  2.80687486e+00  3.45156593e-02  9.39948578e-01 -5.38889767e+00\n",
      " -4.41408269e+01 -6.29121395e-02 -5.26197990e+00  4.79541959e-01\n",
      "  1.56515254e+01  3.83167132e+00  2.34447720e+01  1.44621838e+00\n",
      "  9.20271967e-01]\n"
     ]
    }
   ],
   "source": [
    "dir_names =  ['pso', 'apso', 'fpa_original', 'fpa']\n",
    "param_names = ['a1', 'a2', 'a3',\n",
    "               'b1', 'b2', 'b3', 'b4',\n",
    "               'c1', 'c2', 'c3', 'c4',\n",
    "               'td11', 'td12', 'td13',\n",
    "               'td21', 'td22', 'td23']\n",
    "\n",
    "data_loss = {}\n",
    "data_loss_summary = {'name': [], 'min': [], 'max': [], 'mean': [], 'std': []}\n",
    "data_best_loss_history = {}\n",
    "data_best_param = {'name': []}\n",
    "for param_name in param_names:\n",
    "    data_best_param[param_name] = []\n",
    "\n",
    "temp = np.Inf\n",
    "    \n",
    "for dir_name in dir_names:\n",
    "    lh = np.load('../'+dir_name+'/result/loss_history.npy')\n",
    "    ph = np.load('../'+dir_name+'/result/param_history.npy')\n",
    "    lb = np.load('../'+dir_name+'/result/the_best_loss_history.npy')\n",
    "    pb = np.load('../'+dir_name+'/result/the_best_param_history.npy')\n",
    "    \n",
    "    data_loss[dir_name] = lh\n",
    "    \n",
    "    data_best_loss_history[dir_name] = lb\n",
    "    \n",
    "    data_loss_summary['name'].append(dir_name)\n",
    "    data_loss_summary['min'].append(lb[-1])\n",
    "    data_loss_summary['max'].append(lh.max())\n",
    "    data_loss_summary['mean'].append(np.mean(lh))\n",
    "    data_loss_summary['std'].append(np.std(lh))\n",
    "    \n",
    "    data_best_param['name'].append(dir_name)\n",
    "    for i in range(len(param_names)):\n",
    "        data_best_param[param_names[i]].append(pb[-1][i])\n",
    "        \n",
    "    if lb[-1] < temp:\n",
    "        alg_name = dir_name\n",
    "        params = np.copy(pb[-1])\n",
    "        temp = lb[-1]\n",
    "\n",
    "df_loss = pd.DataFrame(data_loss)\n",
    "df_loss_summary = pd.DataFrame(data_loss_summary)\n",
    "df_best_param = pd.DataFrame(data_best_param)\n",
    "df_best_loss_history = pd.DataFrame(data_best_loss_history)\n",
    "\n",
    "print('The minimum loss algorithm: '+ alg_name)\n",
    "print(params)"
   ]
  },
  {
   "cell_type": "code",
   "execution_count": 5,
   "metadata": {},
   "outputs": [
    {
     "data": {
      "text/html": [
       "<div>\n",
       "<style scoped>\n",
       "    .dataframe tbody tr th:only-of-type {\n",
       "        vertical-align: middle;\n",
       "    }\n",
       "\n",
       "    .dataframe tbody tr th {\n",
       "        vertical-align: top;\n",
       "    }\n",
       "\n",
       "    .dataframe thead th {\n",
       "        text-align: right;\n",
       "    }\n",
       "</style>\n",
       "<table border=\"1\" class=\"dataframe\">\n",
       "  <thead>\n",
       "    <tr style=\"text-align: right;\">\n",
       "      <th></th>\n",
       "      <th>name</th>\n",
       "      <th>min</th>\n",
       "      <th>max</th>\n",
       "      <th>mean</th>\n",
       "      <th>std</th>\n",
       "    </tr>\n",
       "  </thead>\n",
       "  <tbody>\n",
       "    <tr>\n",
       "      <th>0</th>\n",
       "      <td>pso</td>\n",
       "      <td>0.216182</td>\n",
       "      <td>39.852123</td>\n",
       "      <td>5.812556</td>\n",
       "      <td>9.931882</td>\n",
       "    </tr>\n",
       "    <tr>\n",
       "      <th>1</th>\n",
       "      <td>apso</td>\n",
       "      <td>0.576478</td>\n",
       "      <td>31.471869</td>\n",
       "      <td>5.436518</td>\n",
       "      <td>8.099628</td>\n",
       "    </tr>\n",
       "    <tr>\n",
       "      <th>2</th>\n",
       "      <td>fpa_original</td>\n",
       "      <td>0.087230</td>\n",
       "      <td>0.855119</td>\n",
       "      <td>0.233786</td>\n",
       "      <td>0.165868</td>\n",
       "    </tr>\n",
       "    <tr>\n",
       "      <th>3</th>\n",
       "      <td>fpa</td>\n",
       "      <td>0.065628</td>\n",
       "      <td>0.120114</td>\n",
       "      <td>0.070048</td>\n",
       "      <td>0.011944</td>\n",
       "    </tr>\n",
       "  </tbody>\n",
       "</table>\n",
       "</div>"
      ],
      "text/plain": [
       "           name       min        max      mean       std\n",
       "0           pso  0.216182  39.852123  5.812556  9.931882\n",
       "1          apso  0.576478  31.471869  5.436518  8.099628\n",
       "2  fpa_original  0.087230   0.855119  0.233786  0.165868\n",
       "3           fpa  0.065628   0.120114  0.070048  0.011944"
      ]
     },
     "execution_count": 5,
     "metadata": {},
     "output_type": "execute_result"
    }
   ],
   "source": [
    "df_loss_summary"
   ]
  },
  {
   "cell_type": "markdown",
   "metadata": {},
   "source": [
    "# Analysis"
   ]
  },
  {
   "cell_type": "markdown",
   "metadata": {},
   "source": [
    "## Model"
   ]
  },
  {
   "cell_type": "code",
   "execution_count": 6,
   "metadata": {},
   "outputs": [],
   "source": [
    "ndim = 17\n",
    "\n",
    "@njit\n",
    "def delayed_control_signal(i, u, u_list, td):\n",
    "    if i < td:\n",
    "        ut = 0.0\n",
    "    else:\n",
    "        if td == 0:\n",
    "            ut = u\n",
    "        else:\n",
    "            ut = u_list[i-td]\n",
    "    return ut\n",
    "_ = delayed_control_signal(1, 0.1, np.array([0.1, 0.2]), 0)\n",
    "\n",
    "@njit\n",
    "def forward_propagation(t, u, param):\n",
    "    a1, a2, a3, b1, b2, b3, b4, c1, c2, c3, c4, td11, td12, td13, td21, td22, td23 = param\n",
    "    td11 = int(np.around(td11))\n",
    "    td12 = int(np.around(td12))\n",
    "    td13 = int(np.around(td13))\n",
    "    td21 = int(np.around(td21))\n",
    "    td22 = int(np.around(td22))\n",
    "    td23 = int(np.around(td23))\n",
    "\n",
    "    u1_list = np.empty(t.shape)\n",
    "    u2_list = np.empty(t.shape)\n",
    "    out = np.empty(t.shape)\n",
    "    y = 0.0\n",
    "    for i in range(t.shape[0]):\n",
    "        if i == 0:\n",
    "            dt = t[1] - t[0]\n",
    "        else:\n",
    "            dt = t[i] - t[i-1]\n",
    "            \n",
    "        u1, u2 = u[i]        \n",
    "        u11t = delayed_control_signal(i, u1, u1_list, td11)\n",
    "        u12t = delayed_control_signal(i, u1, u1_list, td12)\n",
    "        u13t = delayed_control_signal(i, u1, u1_list, td13)\n",
    "        u21t = delayed_control_signal(i, u2, u2_list, td21)\n",
    "        u22t = delayed_control_signal(i, u2, u2_list, td22)\n",
    "        u23t = delayed_control_signal(i, u2, u2_list, td23)\n",
    "        \n",
    "        temp = 0.\n",
    "        if y != 0.:\n",
    "            temp = a1\n",
    "                    \n",
    "        y_dot = temp + a2 * y + a3 * y**2 \\\n",
    "                + b1 * u11t + b2 * np.exp(b3 * y + b4 * u12t) * u13t \\\n",
    "                + c1 * u21t + c2 * np.exp(c3 * y + c4 * u22t) * u23t\n",
    "        \n",
    "        y += y_dot * dt\n",
    "        if y < 0.0:\n",
    "            y = 0.0\n",
    "\n",
    "        u1_list[i] = u1\n",
    "        u2_list[i] = u2\n",
    "        out[i] = y\n",
    "\n",
    "    return out\n",
    "_ = forward_propagation(np.arange(10, dtype=float), np.random.randn(10,2), np.ones(ndim))"
   ]
  },
  {
   "cell_type": "markdown",
   "metadata": {},
   "source": [
    "## Cost and Metric"
   ]
  },
  {
   "cell_type": "code",
   "execution_count": 7,
   "metadata": {},
   "outputs": [],
   "source": [
    "@njit\n",
    "def mean_squared_error(t, u, v, param):\n",
    "    error = v - forward_propagation(t, u, param)\n",
    "    out = np.mean(error**2)\n",
    "    return out\n",
    "_ = mean_squared_error(np.arange(10, dtype=float), np.random.randn(10,2), np.random.randn(10), np.ones(ndim))\n",
    "\n",
    "@njit\n",
    "def maximum_absolute_error(t, u, v, param):\n",
    "    error = v - forward_propagation(t, u, param)\n",
    "    out = np.max(np.abs(error))\n",
    "    return out\n",
    "_ = maximum_absolute_error(np.arange(10, dtype=float), np.random.randn(10,2), np.random.randn(10), np.ones(ndim))\n",
    "\n",
    "@njit\n",
    "def accuracy(t, u, v, param):\n",
    "    error = v - forward_propagation(t, u, param)\n",
    "    numerator = np.linalg.norm(error)\n",
    "    denumerator = np.linalg.norm(v - np.mean(v))\n",
    "    acc = 1.0 - numerator / denumerator\n",
    "    return acc\n",
    "_ = accuracy(np.arange(10, dtype=float), np.random.randn(10,2), np.random.randn(10), np.ones(ndim))"
   ]
  },
  {
   "cell_type": "markdown",
   "metadata": {},
   "source": [
    "## Result"
   ]
  },
  {
   "cell_type": "markdown",
   "metadata": {},
   "source": [
    "### Training Data"
   ]
  },
  {
   "cell_type": "code",
   "execution_count": 8,
   "metadata": {},
   "outputs": [
    {
     "name": "stdout",
     "output_type": "stream",
     "text": [
      "Total Accuracy: 96.05%\n"
     ]
    }
   ],
   "source": [
    "num = 0\n",
    "for i in range(24):\n",
    "    exec(\"num += t{}.shape[0]\".format(i))\n",
    "vv = np.empty(num)\n",
    "vv_gt = np.empty(num)\n",
    "nn = 0\n",
    "for i in range(24):\n",
    "    exec(\"n = t{}.shape[0]\".format(i))\n",
    "    exec(\"vv[nn: nn+n] = forward_propagation(t{}, u{}, params)\".format(i, i))\n",
    "    exec(\"vv_gt[nn: nn+n] = v{}\".format(i))\n",
    "    nn += n\n",
    "total_accuracy = (1 - np.linalg.norm(vv_gt - vv)/np.linalg.norm(vv_gt - np.mean(vv_gt)))\n",
    "print('Total Accuracy: {:.2f}%'.format(total_accuracy*100))"
   ]
  },
  {
   "cell_type": "code",
   "execution_count": 9,
   "metadata": {},
   "outputs": [],
   "source": [
    "acc = []\n",
    "mse = []\n",
    "maer = [] \n",
    "for i in range(24):\n",
    "    exec(\"acc.append(accuracy(t{}, u{}, v{}, params))\".format(i, i, i))\n",
    "    exec(\"mse.append(mean_squared_error(t{}, u{}, v{}, params))\".format(i, i, i))\n",
    "    exec(\"maer.append(maximum_absolute_error(t{}, u{}, v{}, params))\".format(i, i, i))\n",
    "    \n",
    "df_metric = pd.DataFrame({'accuracy': acc, 'mean squared error (m/s)': mse, 'max. abs. error (m/s)': maer})"
   ]
  },
  {
   "cell_type": "code",
   "execution_count": 10,
   "metadata": {},
   "outputs": [
    {
     "data": {
      "text/html": [
       "<div>\n",
       "<style scoped>\n",
       "    .dataframe tbody tr th:only-of-type {\n",
       "        vertical-align: middle;\n",
       "    }\n",
       "\n",
       "    .dataframe tbody tr th {\n",
       "        vertical-align: top;\n",
       "    }\n",
       "\n",
       "    .dataframe thead th {\n",
       "        text-align: right;\n",
       "    }\n",
       "</style>\n",
       "<table border=\"1\" class=\"dataframe\">\n",
       "  <thead>\n",
       "    <tr style=\"text-align: right;\">\n",
       "      <th></th>\n",
       "      <th>accuracy</th>\n",
       "      <th>mean squared error (m/s)</th>\n",
       "      <th>max. abs. error (m/s)</th>\n",
       "    </tr>\n",
       "  </thead>\n",
       "  <tbody>\n",
       "    <tr>\n",
       "      <th>0</th>\n",
       "      <td>0.904076</td>\n",
       "      <td>0.010379</td>\n",
       "      <td>0.494366</td>\n",
       "    </tr>\n",
       "    <tr>\n",
       "      <th>1</th>\n",
       "      <td>0.934182</td>\n",
       "      <td>0.052038</td>\n",
       "      <td>0.949150</td>\n",
       "    </tr>\n",
       "    <tr>\n",
       "      <th>2</th>\n",
       "      <td>0.948869</td>\n",
       "      <td>0.058255</td>\n",
       "      <td>0.692886</td>\n",
       "    </tr>\n",
       "    <tr>\n",
       "      <th>3</th>\n",
       "      <td>0.898399</td>\n",
       "      <td>0.034276</td>\n",
       "      <td>0.344574</td>\n",
       "    </tr>\n",
       "    <tr>\n",
       "      <th>4</th>\n",
       "      <td>0.878835</td>\n",
       "      <td>0.108543</td>\n",
       "      <td>0.818871</td>\n",
       "    </tr>\n",
       "    <tr>\n",
       "      <th>5</th>\n",
       "      <td>0.947465</td>\n",
       "      <td>0.072290</td>\n",
       "      <td>1.008719</td>\n",
       "    </tr>\n",
       "    <tr>\n",
       "      <th>6</th>\n",
       "      <td>0.960418</td>\n",
       "      <td>0.049099</td>\n",
       "      <td>1.038398</td>\n",
       "    </tr>\n",
       "    <tr>\n",
       "      <th>7</th>\n",
       "      <td>0.856090</td>\n",
       "      <td>0.082380</td>\n",
       "      <td>0.700173</td>\n",
       "    </tr>\n",
       "    <tr>\n",
       "      <th>8</th>\n",
       "      <td>0.774835</td>\n",
       "      <td>0.038602</td>\n",
       "      <td>0.253037</td>\n",
       "    </tr>\n",
       "    <tr>\n",
       "      <th>9</th>\n",
       "      <td>0.905649</td>\n",
       "      <td>0.030792</td>\n",
       "      <td>0.432466</td>\n",
       "    </tr>\n",
       "    <tr>\n",
       "      <th>10</th>\n",
       "      <td>0.953585</td>\n",
       "      <td>0.023252</td>\n",
       "      <td>0.765279</td>\n",
       "    </tr>\n",
       "    <tr>\n",
       "      <th>11</th>\n",
       "      <td>0.958465</td>\n",
       "      <td>0.035031</td>\n",
       "      <td>1.036304</td>\n",
       "    </tr>\n",
       "    <tr>\n",
       "      <th>12</th>\n",
       "      <td>0.766635</td>\n",
       "      <td>0.009121</td>\n",
       "      <td>0.172428</td>\n",
       "    </tr>\n",
       "    <tr>\n",
       "      <th>13</th>\n",
       "      <td>0.861851</td>\n",
       "      <td>0.007097</td>\n",
       "      <td>0.226141</td>\n",
       "    </tr>\n",
       "    <tr>\n",
       "      <th>14</th>\n",
       "      <td>0.777691</td>\n",
       "      <td>0.046559</td>\n",
       "      <td>0.337485</td>\n",
       "    </tr>\n",
       "    <tr>\n",
       "      <th>15</th>\n",
       "      <td>0.843615</td>\n",
       "      <td>0.041716</td>\n",
       "      <td>0.424597</td>\n",
       "    </tr>\n",
       "    <tr>\n",
       "      <th>16</th>\n",
       "      <td>0.915452</td>\n",
       "      <td>0.021818</td>\n",
       "      <td>0.355423</td>\n",
       "    </tr>\n",
       "    <tr>\n",
       "      <th>17</th>\n",
       "      <td>0.917268</td>\n",
       "      <td>0.029642</td>\n",
       "      <td>0.258609</td>\n",
       "    </tr>\n",
       "    <tr>\n",
       "      <th>18</th>\n",
       "      <td>0.837866</td>\n",
       "      <td>0.135979</td>\n",
       "      <td>0.455483</td>\n",
       "    </tr>\n",
       "    <tr>\n",
       "      <th>19</th>\n",
       "      <td>0.904541</td>\n",
       "      <td>0.050116</td>\n",
       "      <td>0.269895</td>\n",
       "    </tr>\n",
       "    <tr>\n",
       "      <th>20</th>\n",
       "      <td>0.967005</td>\n",
       "      <td>0.010678</td>\n",
       "      <td>0.229109</td>\n",
       "    </tr>\n",
       "    <tr>\n",
       "      <th>21</th>\n",
       "      <td>0.916952</td>\n",
       "      <td>0.082295</td>\n",
       "      <td>0.343731</td>\n",
       "    </tr>\n",
       "    <tr>\n",
       "      <th>22</th>\n",
       "      <td>0.888307</td>\n",
       "      <td>0.198029</td>\n",
       "      <td>0.511239</td>\n",
       "    </tr>\n",
       "    <tr>\n",
       "      <th>23</th>\n",
       "      <td>0.928678</td>\n",
       "      <td>0.137497</td>\n",
       "      <td>0.696150</td>\n",
       "    </tr>\n",
       "  </tbody>\n",
       "</table>\n",
       "</div>"
      ],
      "text/plain": [
       "    accuracy  mean squared error (m/s)  max. abs. error (m/s)\n",
       "0   0.904076                  0.010379               0.494366\n",
       "1   0.934182                  0.052038               0.949150\n",
       "2   0.948869                  0.058255               0.692886\n",
       "3   0.898399                  0.034276               0.344574\n",
       "4   0.878835                  0.108543               0.818871\n",
       "5   0.947465                  0.072290               1.008719\n",
       "6   0.960418                  0.049099               1.038398\n",
       "7   0.856090                  0.082380               0.700173\n",
       "8   0.774835                  0.038602               0.253037\n",
       "9   0.905649                  0.030792               0.432466\n",
       "10  0.953585                  0.023252               0.765279\n",
       "11  0.958465                  0.035031               1.036304\n",
       "12  0.766635                  0.009121               0.172428\n",
       "13  0.861851                  0.007097               0.226141\n",
       "14  0.777691                  0.046559               0.337485\n",
       "15  0.843615                  0.041716               0.424597\n",
       "16  0.915452                  0.021818               0.355423\n",
       "17  0.917268                  0.029642               0.258609\n",
       "18  0.837866                  0.135979               0.455483\n",
       "19  0.904541                  0.050116               0.269895\n",
       "20  0.967005                  0.010678               0.229109\n",
       "21  0.916952                  0.082295               0.343731\n",
       "22  0.888307                  0.198029               0.511239\n",
       "23  0.928678                  0.137497               0.696150"
      ]
     },
     "execution_count": 10,
     "metadata": {},
     "output_type": "execute_result"
    }
   ],
   "source": [
    "df_metric"
   ]
  },
  {
   "cell_type": "markdown",
   "metadata": {},
   "source": [
    "### Test Data"
   ]
  },
  {
   "cell_type": "code",
   "execution_count": 11,
   "metadata": {},
   "outputs": [
    {
     "name": "stdout",
     "output_type": "stream",
     "text": [
      "Test Data 1\n",
      "acc: 0.9390355109529067\n",
      "mse: 0.031174918967830527\n",
      "maer: 0.4126550510509013\n",
      "\n",
      "Test Data PID\n",
      "acc: 0.9367955545388897\n",
      "mse: 0.06206736746919006\n",
      "maer: 0.4706700212931958\n"
     ]
    }
   ],
   "source": [
    "print(\"Test Data 1\")\n",
    "print('acc: {}'.format(accuracy(tt, ut, vt, params)))\n",
    "print('mse: {}'.format(mean_squared_error(tt, ut, vt, params)))\n",
    "print('maer: {}'.format(maximum_absolute_error(tt, ut, vt, params)))\n",
    "print('')\n",
    "print(\"Test Data PID\")\n",
    "print('acc: {}'.format(accuracy(ttp, utp, vtp, params)))\n",
    "print('mse: {}'.format(mean_squared_error(ttp, utp, vtp, params)))\n",
    "print('maer: {}'.format(maximum_absolute_error(ttp, utp, vtp, params)))"
   ]
  },
  {
   "cell_type": "markdown",
   "metadata": {},
   "source": [
    "## Visualization"
   ]
  },
  {
   "cell_type": "code",
   "execution_count": 12,
   "metadata": {},
   "outputs": [
    {
     "data": {
      "image/png": "[encoded data removed]",
      "text/plain": [
       "<Figure size 252x189 with 1 Axes>"
      ]
     },
     "metadata": {
      "needs_background": "light"
     },
     "output_type": "display_data"
    }
   ],
   "source": [
    "plt.figure()\n",
    "names = ['PSO', 'APSO', 'FPA', 'MFPA']\n",
    "for i in range(len(dir_names)):\n",
    "    plt.scatter(df_loss.index.values, np.log10(df_loss[dir_names[i]]), s=2., label=names[i])\n",
    "plt.xlabel('Iteration')\n",
    "plt.ylabel('$\\mathrm{log}_{10}(loss)$')\n",
    "plt.legend(prop={'size': 6}, ncol=4, loc='upper right')\n",
    "plt.ylim([None,2.0])\n",
    "plt.savefig('img/stability_check.png', dpi=DPI, transparent=True)\n",
    "plt.show()"
   ]
  },
  {
   "cell_type": "code",
   "execution_count": 13,
   "metadata": {},
   "outputs": [
    {
     "data": {
      "image/png": "[encoded data removed]",
      "text/plain": [
       "<Figure size 252x189 with 1 Axes>"
      ]
     },
     "metadata": {
      "needs_background": "light"
     },
     "output_type": "display_data"
    }
   ],
   "source": [
    "# Test Data 1\n",
    "vvt = forward_propagation(tt, ut, params)\n",
    "plt.figure()\n",
    "plt.plot(tt, vt, label='Ground Truth', zorder=2, color='black', linestyle='--')\n",
    "plt.plot(tt, vvt, label='Identification', zorder=1, color='red')\n",
    "plt.xlabel('Time $(s)$')\n",
    "plt.ylabel('Speed $(m/s)$')\n",
    "plt.legend(fontsize=7)\n",
    "plt.savefig('img/performance_test_data.png', dpi=DPI, transparent=True, bbox_inches='tight')\n",
    "plt.show()"
   ]
  },
  {
   "cell_type": "code",
   "execution_count": 14,
   "metadata": {},
   "outputs": [
    {
     "data": {
      "image/png": "[encoded data removed]",
      "text/plain": [
       "<Figure size 252x189 with 1 Axes>"
      ]
     },
     "metadata": {
      "needs_background": "light"
     },
     "output_type": "display_data"
    }
   ],
   "source": [
    "# Test Data PID\n",
    "vvtp = forward_propagation(ttp, utp, params)\n",
    "plt.figure()\n",
    "plt.plot(ttp, vtp, label='Ground Truth', zorder=2, color='black', linestyle='--')\n",
    "plt.plot(ttp, vvtp, label='Identification', zorder=1, color='red')\n",
    "plt.xlabel('Time $(s)$')\n",
    "plt.ylabel('Speed $(m/s)$')\n",
    "plt.legend(fontsize=7)\n",
    "plt.savefig('img/performance_test_data_pid.png', dpi=DPI, transparent=True, bbox_inches='tight')\n",
    "plt.show()"
   ]
  },
  {
   "cell_type": "code",
   "execution_count": 15,
   "metadata": {},
   "outputs": [],
   "source": [
    "# # Test Data 1\n",
    "# vvt = forward_propagation(tt, ut, params)\n",
    "# plt.figure()\n",
    "# plt.plot(tt, vt, label=r'$1^{st}$Ground Truth', zorder=4, color='black', linestyle='--')\n",
    "# plt.plot(tt, vvt, label=r'$1^{st}$Identification', zorder=3, color='red')\n",
    "# plt.plot(ttp, vtp, label='Ground Truth', zorder=2, linestyle='--')\n",
    "# plt.plot(ttp, vvtp, label='Identification', zorder=1, )\n",
    "# plt.xlabel('Time $(s)$')\n",
    "# plt.ylabel('Speed $(m/s)$')\n",
    "# plt.legend(fontsize=7)\n",
    "# plt.savefig('img/performance_test_data.png', dpi=DPI, transparent=True)\n",
    "# plt.show()"
   ]
  },
  {
   "cell_type": "code",
   "execution_count": null,
   "metadata": {},
   "outputs": [],
   "source": []
  }
 ],
 "metadata": {
  "kernelspec": {
   "display_name": "Python 3",
   "language": "python",
   "name": "python3"
  },
  "language_info": {
   "codemirror_mode": {
    "name": "ipython",
    "version": 3
   },
   "file_extension": ".py",
   "mimetype": "text/x-python",
   "name": "python",
   "nbconvert_exporter": "python",
   "pygments_lexer": "ipython3",
   "version": "3.9.5"
  }
 },
 "nbformat": 4,
 "nbformat_minor": 4
}
