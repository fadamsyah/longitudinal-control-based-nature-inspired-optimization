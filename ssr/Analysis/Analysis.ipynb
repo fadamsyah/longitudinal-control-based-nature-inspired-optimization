{
 "cells": [
  {
   "cell_type": "markdown",
   "metadata": {},
   "source": [
    "# MODEL"
   ]
  },
  {
   "cell_type": "markdown",
   "metadata": {},
   "source": [
    "**Model** that is used to map steady-state speed to throttle is given as follows:\n",
    "\n",
    "$\\displaystyle{ \\hat{u}_s = \\beta_1 \\left(1 - e^{\\beta_2 (v_s - \\beta_3)} \\right), \\; \\hat{u}_s \\geq 0 }$\n",
    "\n",
    "where $u_s$ is throttle, $v_s$ is steady-state speed given constant input, and $\\beta_1, \\beta_2, \\beta_3 \\in \\Re$\n",
    "\n",
    "The **optimization formulation** is given by:\n",
    "\n",
    "$ \\displaystyle{\n",
    "J = \\frac{1}{2m} \\sum_{i=1}^m \\left[u_s - \\hat{u}_s \\right]^2\n",
    "} $\n",
    "\n",
    "In this section, **flower pollination algorithm** (FPA) will be used to minimize the cost function $J$. The constraint is described as follows:\n",
    "\n",
    "$ \\displaystyle{\n",
    "    \\beta_1, \\beta_3 \\geq 0\n",
    "} $\n",
    "\n",
    "$\\displaystyle{\n",
    "\\beta_2 \\leq 0\n",
    "}$"
   ]
  },
  {
   "cell_type": "markdown",
   "metadata": {},
   "source": [
    "# IMPORT"
   ]
  },
  {
   "cell_type": "code",
   "execution_count": 1,
   "metadata": {},
   "outputs": [],
   "source": [
    "import numpy as np\n",
    "import numba as nb\n",
    "import matplotlib.pyplot as plt\n",
    "import pandas as pd\n",
    "from numba import njit, prange\n",
    "from os import listdir\n",
    "from os.path import isfile, join\n",
    "\n",
    "plt.style.use(['science'])"
   ]
  },
  {
   "cell_type": "markdown",
   "metadata": {},
   "source": [
    "## Ground Truth"
   ]
  },
  {
   "cell_type": "code",
   "execution_count": 2,
   "metadata": {},
   "outputs": [
    {
     "data": {
      "image/png": "[encoded data removed]",
      "text/plain": [
       "<Figure size 252x189 with 1 Axes>"
      ]
     },
     "metadata": {
      "needs_background": "light"
     },
     "output_type": "display_data"
    }
   ],
   "source": [
    "df = pd.read_csv('../steady_state_response.csv')\n",
    "gt_v = np.array(df.ssv)\n",
    "gt_u = np.array(df.u)\n",
    "\n",
    "plt.figure()\n",
    "plt.scatter(gt_v, gt_u)\n",
    "plt.xlabel('Steady state speed (m/s)')\n",
    "plt.ylabel('Throttle')\n",
    "plt.savefig('img/ground_truth.png', dpi=600, transparent=True)\n",
    "plt.show()"
   ]
  },
  {
   "cell_type": "markdown",
   "metadata": {},
   "source": [
    "## Simulation Results"
   ]
  },
  {
   "cell_type": "code",
   "execution_count": 3,
   "metadata": {},
   "outputs": [
    {
     "name": "stdout",
     "output_type": "stream",
     "text": [
      "The minimum loss algorithm: pso\n",
      "[ 0.85009553 -0.14497243  0.09623465]\n"
     ]
    }
   ],
   "source": [
    "dir_names =  ['pso', 'apso', 'fpa_original', 'fpa']\n",
    "param_names = ['beta1', 'beta2', 'beta3']\n",
    "\n",
    "data_loss = {}\n",
    "data_loss_summary = {'name': [], 'min': [], 'max': [], 'mean': [], 'std': []}\n",
    "data_best_loss_history = {}\n",
    "data_best_param = {'name': []}\n",
    "for param_name in param_names:\n",
    "    data_best_param[param_name] = []\n",
    "\n",
    "temp = np.Inf\n",
    "    \n",
    "for dir_name in dir_names:\n",
    "    lh = np.load('../'+dir_name+'/result/loss_history.npy')\n",
    "    ph = np.load('../'+dir_name+'/result/param_history.npy')\n",
    "    lb = np.load('../'+dir_name+'/result/the_best_loss_history.npy')\n",
    "    pb = np.load('../'+dir_name+'/result/the_best_param_history.npy')\n",
    "    \n",
    "    data_loss[dir_name] = lh\n",
    "    \n",
    "    data_best_loss_history[dir_name] = lb\n",
    "    \n",
    "    data_loss_summary['name'].append(dir_name)\n",
    "    data_loss_summary['min'].append(lb[-1])\n",
    "    data_loss_summary['max'].append(lh.max())\n",
    "    data_loss_summary['mean'].append(np.mean(lh))\n",
    "    data_loss_summary['std'].append(np.std(lh))\n",
    "    \n",
    "    data_best_param['name'].append(dir_name)\n",
    "    for i in range(len(param_names)):\n",
    "        data_best_param[param_names[i]].append(pb[-1][i])\n",
    "        \n",
    "    if lb[-1] < temp:\n",
    "        alg_name = dir_name\n",
    "        params = np.copy(pb[-1])\n",
    "        temp = lb[-1]\n",
    "\n",
    "df_loss = pd.DataFrame(data_loss)\n",
    "df_loss_summary = pd.DataFrame(data_loss_summary)\n",
    "df_best_param = pd.DataFrame(data_best_param)\n",
    "df_best_loss_history = pd.DataFrame(data_best_loss_history)\n",
    "\n",
    "print('The minimum loss algorithm: '+ alg_name)\n",
    "print(params)"
   ]
  },
  {
   "cell_type": "code",
   "execution_count": 4,
   "metadata": {},
   "outputs": [
    {
     "data": {
      "text/html": [
       "<div>\n",
       "<style scoped>\n",
       "    .dataframe tbody tr th:only-of-type {\n",
       "        vertical-align: middle;\n",
       "    }\n",
       "\n",
       "    .dataframe tbody tr th {\n",
       "        vertical-align: top;\n",
       "    }\n",
       "\n",
       "    .dataframe thead th {\n",
       "        text-align: right;\n",
       "    }\n",
       "</style>\n",
       "<table border=\"1\" class=\"dataframe\">\n",
       "  <thead>\n",
       "    <tr style=\"text-align: right;\">\n",
       "      <th></th>\n",
       "      <th>name</th>\n",
       "      <th>min</th>\n",
       "      <th>max</th>\n",
       "      <th>mean</th>\n",
       "      <th>std</th>\n",
       "    </tr>\n",
       "  </thead>\n",
       "  <tbody>\n",
       "    <tr>\n",
       "      <th>0</th>\n",
       "      <td>pso</td>\n",
       "      <td>0.000012</td>\n",
       "      <td>0.000012</td>\n",
       "      <td>0.000012</td>\n",
       "      <td>3.484426e-20</td>\n",
       "    </tr>\n",
       "    <tr>\n",
       "      <th>1</th>\n",
       "      <td>apso</td>\n",
       "      <td>0.000012</td>\n",
       "      <td>0.038092</td>\n",
       "      <td>0.007186</td>\n",
       "      <td>9.447570e-03</td>\n",
       "    </tr>\n",
       "    <tr>\n",
       "      <th>2</th>\n",
       "      <td>fpa_original</td>\n",
       "      <td>0.000012</td>\n",
       "      <td>0.000012</td>\n",
       "      <td>0.000012</td>\n",
       "      <td>2.427189e-20</td>\n",
       "    </tr>\n",
       "    <tr>\n",
       "      <th>3</th>\n",
       "      <td>fpa</td>\n",
       "      <td>0.000012</td>\n",
       "      <td>0.000012</td>\n",
       "      <td>0.000012</td>\n",
       "      <td>2.594964e-20</td>\n",
       "    </tr>\n",
       "  </tbody>\n",
       "</table>\n",
       "</div>"
      ],
      "text/plain": [
       "           name       min       max      mean           std\n",
       "0           pso  0.000012  0.000012  0.000012  3.484426e-20\n",
       "1          apso  0.000012  0.038092  0.007186  9.447570e-03\n",
       "2  fpa_original  0.000012  0.000012  0.000012  2.427189e-20\n",
       "3           fpa  0.000012  0.000012  0.000012  2.594964e-20"
      ]
     },
     "execution_count": 4,
     "metadata": {},
     "output_type": "execute_result"
    }
   ],
   "source": [
    "df_loss_summary"
   ]
  },
  {
   "cell_type": "markdown",
   "metadata": {},
   "source": [
    "# Visualization"
   ]
  },
  {
   "cell_type": "code",
   "execution_count": 5,
   "metadata": {},
   "outputs": [],
   "source": [
    "@njit\n",
    "def forward_propagation(u, param):\n",
    "    b1, b2, b3 = param\n",
    "    \n",
    "    out = b1 * (1 - np.exp(b2*(u))) + b3\n",
    "    out = np.fmax(out, 0.)\n",
    "    \n",
    "    # When the vehicle is not moving\n",
    "    out[u <= 1e-2] = 0.\n",
    "    \n",
    "    return out\n",
    "\n",
    "_ = forward_propagation(np.array([0.0, 0.1]), np.ones(3)*0.5)"
   ]
  },
  {
   "cell_type": "code",
   "execution_count": 6,
   "metadata": {},
   "outputs": [
    {
     "data": {
      "image/png": "[encoded data removed]",
      "text/plain": [
       "<Figure size 252x189 with 1 Axes>"
      ]
     },
     "metadata": {
      "needs_background": "light"
     },
     "output_type": "display_data"
    }
   ],
   "source": [
    "plt.figure()\n",
    "plt.plot(gt_v, forward_propagation(gt_v, params), color='black', label='Prediction', zorder=1)\n",
    "plt.scatter(gt_v, gt_u, s=10., color='red', label='Ground Truth', zorder=2)\n",
    "plt.xlabel('Steady state speed (m/s)')\n",
    "plt.ylabel('Throttle')\n",
    "plt.legend()\n",
    "plt.savefig('img/result.png', dpi=600, transparent=True)\n",
    "plt.show()"
   ]
  },
  {
   "cell_type": "code",
   "execution_count": 7,
   "metadata": {},
   "outputs": [
    {
     "data": {
      "image/png": "[encoded data removed]",
      "text/plain": [
       "<Figure size 252x189 with 1 Axes>"
      ]
     },
     "metadata": {
      "needs_background": "light"
     },
     "output_type": "display_data"
    }
   ],
   "source": [
    "plt.figure()\n",
    "names = ['PSO', 'APSO', 'FPA', 'MFPA']\n",
    "for i in range(len(dir_names)):\n",
    "    plt.scatter(df_loss.index.values, np.log10(df_loss[dir_names[i]]), s=2., label=names[i])\n",
    "plt.xlabel('Iteration')\n",
    "plt.ylabel('$\\mathrm{log}_{10}(loss)$')\n",
    "plt.legend(prop={'size': 6})\n",
    "plt.savefig('img/stability_check.png', dpi=600, transparent=True)\n",
    "plt.show()"
   ]
  },
  {
   "cell_type": "code",
   "execution_count": null,
   "metadata": {},
   "outputs": [],
   "source": []
  }
 ],
 "metadata": {
  "kernelspec": {
   "display_name": "Python 3",
   "language": "python",
   "name": "python3"
  },
  "language_info": {
   "codemirror_mode": {
    "name": "ipython",
    "version": 3
   },
   "file_extension": ".py",
   "mimetype": "text/x-python",
   "name": "python",
   "nbconvert_exporter": "python",
   "pygments_lexer": "ipython3",
   "version": "3.9.5"
  }
 },
 "nbformat": 4,
 "nbformat_minor": 4
}
